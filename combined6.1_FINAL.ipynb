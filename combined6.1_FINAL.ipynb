{
 "cells": [
  {
   "cell_type": "markdown",
   "metadata": {},
   "source": [
    "# Mortality: Investigating death trends in South Africa\n",
    "\n",
    "Ahmad Soni - 668564\n",
    "Simon Rosen - 1391995\n",
    "Nasiem Ayob -  1825850\n",
    "\n",
    "## Introduction\n",
    "\n",
    "Mortality statistics in general are a valuable resource in gauging Healthcare in a country and the challenges the Healthcare system may be facing. By analysing Mortality data we can gain a better idea of how a country can deal with possible pandemics and pinpoint specific areas of concern. By analysing mortality data we can further understand our healthcare system and the problems it faces. This can give both us and government organizations a better idea on how to better improve the healthcare system in South Africa.\n",
    "\n",
    "We believe there is a lot to be gained by analysing this data, and such we have decided to focus on this for our mini project.\n",
    "\n",
    "**The specific questions we wish to address are the following:**\n",
    "1. Is there a relationship between month of death to age, gender or race?\n",
    "\n",
    "We wish to investigate if there are more people of different ages, genders and race passing away more frequently during specific months\n",
    "\n",
    "\n",
    "\n",
    "2. Does the geographical type of people influence the type of death? For example, do people in different provinces suffer from natural deaths more frequently.\n",
    "\n",
    "We wish to investigate if there are more deaths in particular sections of the country as it might be a good indicator of where major problem areas lie.\n",
    "\n",
    "\n",
    "\n",
    "3. Do demographic features population group(race) and sex influence cause of death?\n",
    "\n",
    "We wish to investigate if certain demographic groups are experiencing more death than others as it might give us a better understanding if certain demographic groups need to be focused for healthcare interventions.\n",
    "\n",
    "\n",
    "\n",
    "\n",
    "**There are limitations present in the dataset which we will have to accomodate for, these being:**\n",
    "\n",
    " We don't have exact numbers for the total population groups in the geographical types so we will have to make some assumptions  in that section\n",
    " \n",
    " There is no available data passed 2011 for the exact statistics we are looking for so some of the information may have been subject to change, especially with recent pandemics. The main reason for this is organizing a country-wide survey is inredibly time consuming and resource heavy, detailed below in data description. Due to this it can only realistically be carried out between large year gaps.\n",
    "\n",
    "We are also using a 10% sample of the original data so there might be small innacuracies but nothing that should affect our overall results. Another issue regarding this is that the original dataset is too large for any of our computers to generate models on, therefore we have to use the 10% sample.\n",
    "\n",
    "We did want to extend our dataset originally but ran into issues with the website we retrieved the data from initially having network issues.\n",
    "\n",
    " \n",
    "### Methodology\n",
    "A short summary of the methodology is as follows:<br/>\n",
    "\n",
    "In the data description section, we will look at where the data was gathered and how. We will also investigate important aspects of the data relating to its contents, validity and quality. By using these aspects, we will be able to formulate a good idea about whether the questions we have asked can be answered by the data we have been given. Our next problem would be to load the data into Pandas and manipulate it into useable formats. This is done by cleaning empty values, isolating and grouping related categories and renaming certain categories to make them easier to understand. Once the data has been cleaned and organized, we are ready to start performing some basic exploratory analyses. These will consist of basic plots which show some simple relationships for the sake of better understanding our data and for comparison to other datasets to ensure validity.\n",
    "\n",
    "The more indepth methodology will be handled by the next few sections. We will generate and fit machine learning models onto our research questions so we can predict answers to them. We will also generate and apply appropriate hypothesis to our research questions. This will allow us to better answer them, specifically with regards to ascertaining relationships between variables.\n",
    "\n",
    "Finally we will interpret and discuss our results and finish off with future research in this area.\n",
    " \n",
    "### Contents of this notebook\n",
    "\n",
    "**1. Introduction <br/>**\n",
    "\n",
    "A brief introduction and overview of this Notebook\n",
    "\n",
    "**2. Data Description <br/>**\n",
    "\n",
    "A overview on the data that is being used as well as methodology\n",
    "\n",
    "**3. Data Wrangling**\n",
    "\n",
    "Manipulation of the data into more useable formats\n",
    "\n",
    "**4. Exploratory Analyses <br/>**\n",
    "\n",
    "Initial Plots and explorations into the dataset\n",
    "\n",
    "**5. Model Fitting <br/>**\n",
    "\n",
    "Generate and fit models for our research questions\n",
    "\n",
    "**6. Hypothesis Testing <br/>**\n",
    "\n",
    "Generate Hypothesis tests for each researc question\n",
    "\n",
    "**7. Interpretation of Results <br/>**\n",
    "\n",
    "Interpretation of our models and hypothesis tests\n",
    "\n",
    "**8. Conclusion <br/>**\n",
    "\n",
    "Answers and Further research\n"
   ]
  },
  {
   "cell_type": "markdown",
   "metadata": {},
   "source": [
    "## Data Description\n",
    "\n",
    "The data we have decided to use is a 10% sample of the South African 2011 Mortality Consensus. It was gathered by download from http://nesstar.statssa.gov.za:8282/webview/ on the 9th of March 2021.\n",
    "\n",
    "The data is comprised of 40303 entries (rows) and 12 categories (columns)\n",
    "\n",
    "The data for the South African 2011 Census was gathered through a rigourus survey scheme. The process involved a deep planning and testing phase where the act of gathering survey data was ensured to be as accurate and efficient as possible. The planning process started in 2003 and the first pilots were tested in 2008 and 2009. The final and largest test was performed in 2010. The final survey process started on the 9th of October 2011 and involved a team of field staff of over 160 000 individuals. The surveys yielded 15 million questionnaires relating to different aspects of society in South Africa. These questionnaires then needed to be processed and captured digitally. This data was then passed on to a data editing team who compiled, formatted and split it into the useable formats we find on the StatsSA webpage. We have chosen the mortality subset of the giant overall Census dataset. Sadly, mortality was the final entry on the census questionnaire and it was reported that by this stage, there were many blank responses present, signifying some form of respondent fatigue. There also seemed to be a general trend of people not wanting to answer questions related to mortality based on the negative nature of the questions. This explains our number of entries compared to the number of surveys that were collected. All data was collated and split into seperate frames which were named Enumeration Areas or EAs.\n",
    "\n",
    "The 10% sample was selected by selecting only data where all EA's were complete. There was also a restriction placed where all EA's had to have well defined boundaries in the selection sample, and these boundaries should correspond to the boundaries on the initial complete dataset. This allows accurate estimates to be made in relation to the complete dataset.\n",
    "\n",
    "### Contents\n",
    "\n",
    "Contained within is mortality data relating to:\n",
    "- Age `M04_AGE`\n",
    "- Sex `M03_SEX`\n",
    "- Region\n",
    "    - Province `M_PROVINCE` \n",
    "    - District `M_DISTRICT`\n",
    "    - Muncipality `M_MUNIC`)\n",
    "- Geographical type `M_GEOTYPE`\n",
    "- Date of death, month `M02_MONTH` and year `M02_YEAR`\n",
    "- Death type, unnatural or natural `M05_CAUSE`\n",
    "- Population group (race) `M_MX_POP_GROUP`\n",
    "\n",
    "Since this is an official data publication, the attached PDF for the data shows it has been validated by the South African Government.\n",
    "\n",
    "\n",
    "### Validations\n",
    "In order to validate our data, we need to compare it to similar mortality data from other countries and compare key statistics. The total number of deaths recorded in South Africa in 2011 was 604545 comparing this to the total deaths in the United States in 2011, who had a total of 2515458. If we consider the US population to be 6 times that of South Africa, we get numbers  within an acceptable range for total deaths.\n",
    "\n",
    "If we compare the total population the entire consensus covered between the 2011, 2007 and 2001 Census data in South Africa, we have population numbers of 51 770 560 , 48 502 059 and 44 819 778 repectively. Which makes sense since we have a positive population growth. This further validates the 2011 data.\n",
    "\n",
    "### Data Quality\n",
    "\n",
    "Accuracy: Due to the stringent collection process detailed above, all data contained has been gathered appropriately and is approved by Statistics South Africa, the leading statistics gathering instituition in the country.\n",
    "\n",
    "Reliability: The statistics we have contain multiple entries under all categories showing its reliability.\n",
    "\n",
    "Relevancy: All of the data contained is significant and useful to the purpose of evaluating mortality.\n",
    "\n",
    "Completeness and Comprehensiveness: All entries are complete and valid in this dataset.\n",
    "\n",
    "Validity: Each data entry conforms to the same format presented throughout the dataset.\n",
    "\n",
    "### Relavancy of 10% sample\n",
    "\n",
    "The data contains mortality data per month, geographical location, age and gender. This should allow us to answer the questions we have proposed in our introduction. The data is representative of the larger complete dataset. The way the 10% sample was selected means we shoud still have accurate results enough to infer conclusions and relationships from. We opted to use the 10% sample as it would give us similar or the same results and the amount of data compared to the full dataset is much easier to use and manipulate.\n",
    "\n",
    "The size of the full dataset also produced a technical limitation as none of our members have computing power powerful enough to generate models on a dataset that large.\n"
   ]
  },
  {
   "cell_type": "markdown",
   "metadata": {},
   "source": [
    "## Data Wrangling"
   ]
  },
  {
   "cell_type": "code",
   "execution_count": 1,
   "metadata": {},
   "outputs": [],
   "source": [
    "import matplotlib.pyplot as plt\n",
    "import seaborn as sns\n",
    "import pandas as pd\n",
    "import numpy as np\n",
    "import pickle\n",
    "from matplotlib import pyplot as plt\n",
    "import sys\n",
    "if not sys.warnoptions:\n",
    "    import warnings\n",
    "    warnings.simplefilter(\"ignore\")\n",
    "    #simplefilter(action='ignore', category=FutureWarning)\n",
    "\n",
    "\n",
    "\n",
    "\n",
    "sns.set()\n",
    "\n",
    "from pandas.api.types import CategoricalDtype"
   ]
  },
  {
   "cell_type": "code",
   "execution_count": 2,
   "metadata": {},
   "outputs": [],
   "source": [
    "df = pd.read_csv(\"data/2011_census_mortality.csv\", index_col=\"SN\")"
   ]
  },
  {
   "cell_type": "markdown",
   "metadata": {},
   "source": [
    "## Preliminary & Cursory Audit of Data"
   ]
  },
  {
   "cell_type": "code",
   "execution_count": 3,
   "metadata": {},
   "outputs": [
    {
     "data": {
      "text/html": [
       "<div>\n",
       "<style scoped>\n",
       "    .dataframe tbody tr th:only-of-type {\n",
       "        vertical-align: middle;\n",
       "    }\n",
       "\n",
       "    .dataframe tbody tr th {\n",
       "        vertical-align: top;\n",
       "    }\n",
       "\n",
       "    .dataframe thead th {\n",
       "        text-align: right;\n",
       "    }\n",
       "</style>\n",
       "<table border=\"1\" class=\"dataframe\">\n",
       "  <thead>\n",
       "    <tr style=\"text-align: right;\">\n",
       "      <th></th>\n",
       "      <th>M02_MONTH</th>\n",
       "      <th>M02_YEAR</th>\n",
       "      <th>M03_SEX</th>\n",
       "      <th>M04_AGE</th>\n",
       "      <th>M05_CAUSE</th>\n",
       "      <th>M_MX_POP_GROUP</th>\n",
       "      <th>M_GEOTYPE</th>\n",
       "      <th>M_PROVINCE</th>\n",
       "      <th>M_DISTRICT</th>\n",
       "      <th>M_MUNIC</th>\n",
       "      <th>MORTALITY_10PERCENT_WEIGHT</th>\n",
       "    </tr>\n",
       "    <tr>\n",
       "      <th>SN</th>\n",
       "      <th></th>\n",
       "      <th></th>\n",
       "      <th></th>\n",
       "      <th></th>\n",
       "      <th></th>\n",
       "      <th></th>\n",
       "      <th></th>\n",
       "      <th></th>\n",
       "      <th></th>\n",
       "      <th></th>\n",
       "      <th></th>\n",
       "    </tr>\n",
       "  </thead>\n",
       "  <tbody>\n",
       "    <tr>\n",
       "      <th>11809257867</th>\n",
       "      <td>3</td>\n",
       "      <td>2011</td>\n",
       "      <td>2</td>\n",
       "      <td>0</td>\n",
       "      <td>1</td>\n",
       "      <td>2.0</td>\n",
       "      <td>3</td>\n",
       "      <td>1</td>\n",
       "      <td>101</td>\n",
       "      <td>160</td>\n",
       "      <td>28.748530</td>\n",
       "    </tr>\n",
       "    <tr>\n",
       "      <th>11916034982</th>\n",
       "      <td>10</td>\n",
       "      <td>2011</td>\n",
       "      <td>1</td>\n",
       "      <td>25</td>\n",
       "      <td>9</td>\n",
       "      <td>1.0</td>\n",
       "      <td>1</td>\n",
       "      <td>1</td>\n",
       "      <td>101</td>\n",
       "      <td>160</td>\n",
       "      <td>11.461345</td>\n",
       "    </tr>\n",
       "    <tr>\n",
       "      <th>10104528209</th>\n",
       "      <td>8</td>\n",
       "      <td>2011</td>\n",
       "      <td>1</td>\n",
       "      <td>85</td>\n",
       "      <td>1</td>\n",
       "      <td>2.0</td>\n",
       "      <td>1</td>\n",
       "      <td>1</td>\n",
       "      <td>101</td>\n",
       "      <td>160</td>\n",
       "      <td>10.559567</td>\n",
       "    </tr>\n",
       "    <tr>\n",
       "      <th>10104521225</th>\n",
       "      <td>5</td>\n",
       "      <td>2011</td>\n",
       "      <td>1</td>\n",
       "      <td>72</td>\n",
       "      <td>1</td>\n",
       "      <td>2.0</td>\n",
       "      <td>1</td>\n",
       "      <td>1</td>\n",
       "      <td>101</td>\n",
       "      <td>160</td>\n",
       "      <td>11.653297</td>\n",
       "    </tr>\n",
       "    <tr>\n",
       "      <th>11917226239</th>\n",
       "      <td>9</td>\n",
       "      <td>2011</td>\n",
       "      <td>1</td>\n",
       "      <td>73</td>\n",
       "      <td>1</td>\n",
       "      <td>2.0</td>\n",
       "      <td>1</td>\n",
       "      <td>1</td>\n",
       "      <td>101</td>\n",
       "      <td>160</td>\n",
       "      <td>11.653297</td>\n",
       "    </tr>\n",
       "  </tbody>\n",
       "</table>\n",
       "</div>"
      ],
      "text/plain": [
       "             M02_MONTH  M02_YEAR  M03_SEX  M04_AGE  M05_CAUSE  M_MX_POP_GROUP  \\\n",
       "SN                                                                              \n",
       "11809257867          3      2011        2        0          1             2.0   \n",
       "11916034982         10      2011        1       25          9             1.0   \n",
       "10104528209          8      2011        1       85          1             2.0   \n",
       "10104521225          5      2011        1       72          1             2.0   \n",
       "11917226239          9      2011        1       73          1             2.0   \n",
       "\n",
       "             M_GEOTYPE  M_PROVINCE  M_DISTRICT  M_MUNIC  \\\n",
       "SN                                                        \n",
       "11809257867          3           1         101      160   \n",
       "11916034982          1           1         101      160   \n",
       "10104528209          1           1         101      160   \n",
       "10104521225          1           1         101      160   \n",
       "11917226239          1           1         101      160   \n",
       "\n",
       "             MORTALITY_10PERCENT_WEIGHT  \n",
       "SN                                       \n",
       "11809257867                   28.748530  \n",
       "11916034982                   11.461345  \n",
       "10104528209                   10.559567  \n",
       "10104521225                   11.653297  \n",
       "11917226239                   11.653297  "
      ]
     },
     "execution_count": 3,
     "metadata": {},
     "output_type": "execute_result"
    }
   ],
   "source": [
    "df.head()"
   ]
  },
  {
   "cell_type": "code",
   "execution_count": 4,
   "metadata": {},
   "outputs": [
    {
     "name": "stdout",
     "output_type": "stream",
     "text": [
      "<class 'pandas.core.frame.DataFrame'>\n",
      "Int64Index: 40303 entries, 11809257867 to 11407403066\n",
      "Data columns (total 11 columns):\n",
      " #   Column                      Non-Null Count  Dtype  \n",
      "---  ------                      --------------  -----  \n",
      " 0   M02_MONTH                   40303 non-null  int64  \n",
      " 1   M02_YEAR                    40303 non-null  int64  \n",
      " 2   M03_SEX                     40303 non-null  int64  \n",
      " 3   M04_AGE                     40303 non-null  int64  \n",
      " 4   M05_CAUSE                   40303 non-null  int64  \n",
      " 5   M_MX_POP_GROUP              40288 non-null  float64\n",
      " 6   M_GEOTYPE                   40303 non-null  int64  \n",
      " 7   M_PROVINCE                  40303 non-null  int64  \n",
      " 8   M_DISTRICT                  40303 non-null  int64  \n",
      " 9   M_MUNIC                     40303 non-null  int64  \n",
      " 10  MORTALITY_10PERCENT_WEIGHT  40303 non-null  float64\n",
      "dtypes: float64(2), int64(9)\n",
      "memory usage: 3.7 MB\n"
     ]
    }
   ],
   "source": [
    "df.info()"
   ]
  },
  {
   "cell_type": "markdown",
   "metadata": {},
   "source": [
    "From the above we can see that all the columns are numerical even though the majority of them should be categorical. Given with the data from StatsSA was also a PDF that for each column explained which categorical value each numerical value represented. Using this we will later map the numerical values to string values then to categorical values. "
   ]
  },
  {
   "cell_type": "markdown",
   "metadata": {},
   "source": [
    "**Number of NaN values for each column:**"
   ]
  },
  {
   "cell_type": "code",
   "execution_count": 5,
   "metadata": {},
   "outputs": [
    {
     "data": {
      "text/plain": [
       "M02_MONTH                      0\n",
       "M02_YEAR                       0\n",
       "M03_SEX                        0\n",
       "M04_AGE                        0\n",
       "M05_CAUSE                      0\n",
       "M_MX_POP_GROUP                15\n",
       "M_GEOTYPE                      0\n",
       "M_PROVINCE                     0\n",
       "M_DISTRICT                     0\n",
       "M_MUNIC                        0\n",
       "MORTALITY_10PERCENT_WEIGHT     0\n",
       "dtype: int64"
      ]
     },
     "execution_count": 5,
     "metadata": {},
     "output_type": "execute_result"
    }
   ],
   "source": [
    "df.isna().sum()"
   ]
  },
  {
   "cell_type": "markdown",
   "metadata": {},
   "source": [
    "From the above we can see that there are very minimal missing values, but this is not actually the case as well see later that dummy variables are used to represent missing data."
   ]
  },
  {
   "cell_type": "markdown",
   "metadata": {},
   "source": [
    "Since this is a survey and not a census, this data is only a sample of the population. In this case the data only makes up 10% of the deaths that occurred in 2011. Thankfully, the data accounts for this with the introduction of a sample weight which is a value that aims to account for the selection of specific observations with inherent bias such as from non-responses, non-coverage, or oversampling. Using this sample weight in our statistics will give us a more accurate representation of the statistics of the population rather than just this sample. "
   ]
  },
  {
   "cell_type": "markdown",
   "metadata": {},
   "source": [
    "### Rename Columns to be more usable \n",
    "The names of these columns are rather unwieldy to work with so we will rename them to be easier to work with while still retaining their meaning."
   ]
  },
  {
   "cell_type": "code",
   "execution_count": 6,
   "metadata": {},
   "outputs": [
    {
     "data": {
      "text/plain": [
       "Index(['M02_MONTH', 'M02_YEAR', 'M03_SEX', 'M04_AGE', 'M05_CAUSE',\n",
       "       'M_MX_POP_GROUP', 'M_GEOTYPE', 'M_PROVINCE', 'M_DISTRICT', 'M_MUNIC',\n",
       "       'MORTALITY_10PERCENT_WEIGHT'],\n",
       "      dtype='object')"
      ]
     },
     "execution_count": 6,
     "metadata": {},
     "output_type": "execute_result"
    }
   ],
   "source": [
    "df.columns"
   ]
  },
  {
   "cell_type": "markdown",
   "metadata": {},
   "source": [
    "Missing values:"
   ]
  },
  {
   "cell_type": "code",
   "execution_count": 7,
   "metadata": {},
   "outputs": [
    {
     "data": {
      "text/plain": [
       "Index(['month', 'year', 'sex', 'age', 'cause', 'pop_group', 'geotype',\n",
       "       'province', 'district', 'munic', 'sample_weight'],\n",
       "      dtype='object')"
      ]
     },
     "execution_count": 7,
     "metadata": {},
     "output_type": "execute_result"
    }
   ],
   "source": [
    "rename_dict = {\n",
    "    'M02_MONTH': 'month', \n",
    "    'M02_YEAR': 'year', \n",
    "    'M03_SEX': 'sex', \n",
    "    'M04_AGE': 'age', \n",
    "    'M05_CAUSE': 'cause',\n",
    "    'M_MX_POP_GROUP': 'pop_group', \n",
    "    'M_GEOTYPE': 'geotype', \n",
    "    'M_PROVINCE': 'province', \n",
    "    'M_DISTRICT': 'district', \n",
    "    'M_MUNIC': 'munic',\n",
    "    'MORTALITY_10PERCENT_WEIGHT': 'sample_weight'\n",
    "}\n",
    "df.rename(rename_dict, axis=1, inplace=True)\n",
    "df.columns"
   ]
  },
  {
   "cell_type": "code",
   "execution_count": 8,
   "metadata": {},
   "outputs": [],
   "source": [
    "clean_df = df.copy()"
   ]
  },
  {
   "cell_type": "markdown",
   "metadata": {},
   "source": [
    "## Convert Columns to Correct Format\n",
    "As explained above some of the columns are represented by numerical values rather than categorical so we will now remedy that. In the data dummy variables are used to represent NaN values so we will replace these dummy variables with np.nan for ease of use later."
   ]
  },
  {
   "cell_type": "markdown",
   "metadata": {},
   "source": [
    "### Month"
   ]
  },
  {
   "cell_type": "code",
   "execution_count": 9,
   "metadata": {},
   "outputs": [
    {
     "data": {
      "text/plain": [
       "10    5443\n",
       "9     3919\n",
       "6     3816\n",
       "12    3410\n",
       "7     3375\n",
       "8     3291\n",
       "11    3220\n",
       "4     2908\n",
       "5     2872\n",
       "3     2858\n",
       "2     2644\n",
       "1     2547\n",
       "Name: month, dtype: int64"
      ]
     },
     "execution_count": 9,
     "metadata": {},
     "output_type": "execute_result"
    }
   ],
   "source": [
    "clean_df['month'].value_counts()"
   ]
  },
  {
   "cell_type": "markdown",
   "metadata": {},
   "source": [
    "While month could be represented as a categorical value, it is easier to use later on when kept as numerical thus we will not change it."
   ]
  },
  {
   "cell_type": "markdown",
   "metadata": {},
   "source": [
    "### Year"
   ]
  },
  {
   "cell_type": "code",
   "execution_count": 10,
   "metadata": {},
   "outputs": [
    {
     "data": {
      "text/plain": [
       "2011    30560\n",
       "2010     9743\n",
       "Name: year, dtype: int64"
      ]
     },
     "execution_count": 10,
     "metadata": {},
     "output_type": "execute_result"
    }
   ],
   "source": [
    "clean_df['year'].value_counts()"
   ]
  },
  {
   "cell_type": "markdown",
   "metadata": {},
   "source": [
    "This data also includes samples for 2010 in addition to for 2011. "
   ]
  },
  {
   "cell_type": "markdown",
   "metadata": {},
   "source": [
    "### Date"
   ]
  },
  {
   "cell_type": "markdown",
   "metadata": {},
   "source": [
    "Having the month and year stored as a single value can be useful for later analysis so we will combine these two into a single PeriodArray object with the frequency set as months. This object is similar to datetime except that it has a lower granularity – in this case it does not include days."
   ]
  },
  {
   "cell_type": "code",
   "execution_count": 11,
   "metadata": {},
   "outputs": [
    {
     "name": "stdout",
     "output_type": "stream",
     "text": [
      "<class 'pandas.core.frame.DataFrame'>\n",
      "Int64Index: 40303 entries, 11809257867 to 11407403066\n",
      "Data columns (total 1 columns):\n",
      " #   Column  Non-Null Count  Dtype    \n",
      "---  ------  --------------  -----    \n",
      " 0   date    40303 non-null  period[M]\n",
      "dtypes: period[M](1)\n",
      "memory usage: 629.7 KB\n"
     ]
    }
   ],
   "source": [
    "clean_df['date'] = clean_df['month'].astype(str) + \"-\" + clean_df['year'].astype(str)\n",
    "clean_df['date'] = pd.to_datetime(clean_df['date'], format=\"%m-%Y\")\n",
    "clean_df['date'] = clean_df['date'].dt.to_period('M')\n",
    "clean_df[['date']].info()"
   ]
  },
  {
   "cell_type": "markdown",
   "metadata": {},
   "source": [
    "### Sex\n",
    "Sex is represented numerically with dummy variables representing each category or NaN. Thus, we will convert it to the correct categorical format.<br>\n",
    "\n",
    "Mapping:\n",
    "\n",
    "| Numerical Value | Categorical Value |\n",
    "| :-------------: | :---------------: |\n",
    "| 1               | male              |\n",
    "| 2               | female            |\n",
    "| 9               | nan               |"
   ]
  },
  {
   "cell_type": "code",
   "execution_count": 12,
   "metadata": {},
   "outputs": [
    {
     "data": {
      "text/plain": [
       "1    20909\n",
       "2    19240\n",
       "9      154\n",
       "Name: sex, dtype: int64"
      ]
     },
     "execution_count": 12,
     "metadata": {},
     "output_type": "execute_result"
    }
   ],
   "source": [
    "df['sex'].value_counts()"
   ]
  },
  {
   "cell_type": "code",
   "execution_count": 13,
   "metadata": {},
   "outputs": [
    {
     "data": {
      "text/plain": [
       "male      20909\n",
       "female    19240\n",
       "Name: sex, dtype: int64"
      ]
     },
     "execution_count": 13,
     "metadata": {},
     "output_type": "execute_result"
    }
   ],
   "source": [
    "sex_map = {\n",
    "    1:\"male\",\n",
    "    2:\"female\",\n",
    "    9: np.NaN # 'Unspecified'\n",
    "}\n",
    "clean_df['sex'] = df['sex'].map(sex_map)\n",
    "clean_df['sex'] = clean_df['sex'].astype(\"category\")\n",
    "clean_df['sex'].value_counts()"
   ]
  },
  {
   "cell_type": "markdown",
   "metadata": {},
   "source": [
    "No of NaN values:"
   ]
  },
  {
   "cell_type": "code",
   "execution_count": 14,
   "metadata": {},
   "outputs": [
    {
     "data": {
      "text/plain": [
       "154"
      ]
     },
     "execution_count": 14,
     "metadata": {},
     "output_type": "execute_result"
    }
   ],
   "source": [
    "clean_df['sex'].isna().sum()"
   ]
  },
  {
   "cell_type": "markdown",
   "metadata": {},
   "source": [
    "We can see that for `sex` missing values are indeed present."
   ]
  },
  {
   "cell_type": "markdown",
   "metadata": {},
   "source": [
    "### Age\n",
    "Age is correctly represented as integer so we do not need to change its format."
   ]
  },
  {
   "cell_type": "code",
   "execution_count": 15,
   "metadata": {},
   "outputs": [
    {
     "data": {
      "text/plain": [
       "count    40303.000000\n",
       "mean        69.131950\n",
       "std        154.151281\n",
       "min          0.000000\n",
       "25%         28.000000\n",
       "50%         45.000000\n",
       "75%         65.000000\n",
       "max        999.000000\n",
       "Name: age, dtype: float64"
      ]
     },
     "execution_count": 15,
     "metadata": {},
     "output_type": "execute_result"
    }
   ],
   "source": [
    "df['age'].describe()"
   ]
  },
  {
   "cell_type": "markdown",
   "metadata": {},
   "source": [
    "From the above we can see an inappropriate value exists in the data with it being 999. Obviously, someone’s age cannot be 999 and this is in fact a dummy variable meant to indicate a missing value. We will replace this value with `np.nan`."
   ]
  },
  {
   "cell_type": "code",
   "execution_count": 16,
   "metadata": {},
   "outputs": [
    {
     "data": {
      "text/plain": [
       "count    39253.000000\n",
       "mean        44.258401\n",
       "std         25.492258\n",
       "min          0.000000\n",
       "25%         28.000000\n",
       "50%         44.000000\n",
       "75%         63.000000\n",
       "max        120.000000\n",
       "Name: age, dtype: float64"
      ]
     },
     "execution_count": 16,
     "metadata": {},
     "output_type": "execute_result"
    }
   ],
   "source": [
    "# 999 refers to unspecified values\n",
    "clean_df['age'] = df['age'].replace(999, np.NaN)\n",
    "clean_df['age'].describe()"
   ]
  },
  {
   "cell_type": "markdown",
   "metadata": {},
   "source": [
    "We can see that the maximum value for age is still inappropriate, since 120 does not seem to be a valid number. Below we will look at how many of the age values are greater than 110. "
   ]
  },
  {
   "cell_type": "code",
   "execution_count": 17,
   "metadata": {},
   "outputs": [
    {
     "data": {
      "text/plain": [
       "7"
      ]
     },
     "execution_count": 17,
     "metadata": {},
     "output_type": "execute_result"
    }
   ],
   "source": [
    "# Number of rows where age is greater than 110.\n",
    "clean_df[clean_df['age']>110]['age'].count()"
   ]
  },
  {
   "cell_type": "code",
   "execution_count": 18,
   "metadata": {},
   "outputs": [
    {
     "data": {
      "text/html": [
       "<div>\n",
       "<style scoped>\n",
       "    .dataframe tbody tr th:only-of-type {\n",
       "        vertical-align: middle;\n",
       "    }\n",
       "\n",
       "    .dataframe tbody tr th {\n",
       "        vertical-align: top;\n",
       "    }\n",
       "\n",
       "    .dataframe thead th {\n",
       "        text-align: right;\n",
       "    }\n",
       "</style>\n",
       "<table border=\"1\" class=\"dataframe\">\n",
       "  <thead>\n",
       "    <tr style=\"text-align: right;\">\n",
       "      <th></th>\n",
       "      <th>month</th>\n",
       "      <th>year</th>\n",
       "      <th>sex</th>\n",
       "      <th>age</th>\n",
       "      <th>cause</th>\n",
       "      <th>pop_group</th>\n",
       "      <th>geotype</th>\n",
       "      <th>province</th>\n",
       "      <th>district</th>\n",
       "      <th>munic</th>\n",
       "      <th>sample_weight</th>\n",
       "      <th>date</th>\n",
       "    </tr>\n",
       "    <tr>\n",
       "      <th>SN</th>\n",
       "      <th></th>\n",
       "      <th></th>\n",
       "      <th></th>\n",
       "      <th></th>\n",
       "      <th></th>\n",
       "      <th></th>\n",
       "      <th></th>\n",
       "      <th></th>\n",
       "      <th></th>\n",
       "      <th></th>\n",
       "      <th></th>\n",
       "      <th></th>\n",
       "    </tr>\n",
       "  </thead>\n",
       "  <tbody>\n",
       "    <tr>\n",
       "      <th>10873926346</th>\n",
       "      <td>6</td>\n",
       "      <td>2011</td>\n",
       "      <td>female</td>\n",
       "      <td>120.0</td>\n",
       "      <td>1</td>\n",
       "      <td>1.0</td>\n",
       "      <td>1</td>\n",
       "      <td>4</td>\n",
       "      <td>420</td>\n",
       "      <td>477</td>\n",
       "      <td>14.219385</td>\n",
       "      <td>2011-06</td>\n",
       "    </tr>\n",
       "    <tr>\n",
       "      <th>11379674937</th>\n",
       "      <td>2</td>\n",
       "      <td>2011</td>\n",
       "      <td>female</td>\n",
       "      <td>120.0</td>\n",
       "      <td>1</td>\n",
       "      <td>1.0</td>\n",
       "      <td>1</td>\n",
       "      <td>5</td>\n",
       "      <td>599</td>\n",
       "      <td>599</td>\n",
       "      <td>10.809685</td>\n",
       "      <td>2011-02</td>\n",
       "    </tr>\n",
       "    <tr>\n",
       "      <th>10628289172</th>\n",
       "      <td>2</td>\n",
       "      <td>2011</td>\n",
       "      <td>male</td>\n",
       "      <td>115.0</td>\n",
       "      <td>1</td>\n",
       "      <td>1.0</td>\n",
       "      <td>1</td>\n",
       "      <td>5</td>\n",
       "      <td>599</td>\n",
       "      <td>599</td>\n",
       "      <td>18.002305</td>\n",
       "      <td>2011-02</td>\n",
       "    </tr>\n",
       "    <tr>\n",
       "      <th>12165800088</th>\n",
       "      <td>6</td>\n",
       "      <td>2011</td>\n",
       "      <td>female</td>\n",
       "      <td>111.0</td>\n",
       "      <td>9</td>\n",
       "      <td>1.0</td>\n",
       "      <td>2</td>\n",
       "      <td>6</td>\n",
       "      <td>638</td>\n",
       "      <td>668</td>\n",
       "      <td>10.737935</td>\n",
       "      <td>2011-06</td>\n",
       "    </tr>\n",
       "    <tr>\n",
       "      <th>10426142239</th>\n",
       "      <td>6</td>\n",
       "      <td>2011</td>\n",
       "      <td>male</td>\n",
       "      <td>111.0</td>\n",
       "      <td>1</td>\n",
       "      <td>1.0</td>\n",
       "      <td>1</td>\n",
       "      <td>8</td>\n",
       "      <td>830</td>\n",
       "      <td>860</td>\n",
       "      <td>10.576153</td>\n",
       "      <td>2011-06</td>\n",
       "    </tr>\n",
       "    <tr>\n",
       "      <th>10310200273</th>\n",
       "      <td>6</td>\n",
       "      <td>2011</td>\n",
       "      <td>female</td>\n",
       "      <td>113.0</td>\n",
       "      <td>1</td>\n",
       "      <td>1.0</td>\n",
       "      <td>2</td>\n",
       "      <td>9</td>\n",
       "      <td>933</td>\n",
       "      <td>962</td>\n",
       "      <td>10.317901</td>\n",
       "      <td>2011-06</td>\n",
       "    </tr>\n",
       "    <tr>\n",
       "      <th>10526056410</th>\n",
       "      <td>11</td>\n",
       "      <td>2010</td>\n",
       "      <td>male</td>\n",
       "      <td>112.0</td>\n",
       "      <td>1</td>\n",
       "      <td>1.0</td>\n",
       "      <td>2</td>\n",
       "      <td>9</td>\n",
       "      <td>934</td>\n",
       "      <td>966</td>\n",
       "      <td>10.262744</td>\n",
       "      <td>2010-11</td>\n",
       "    </tr>\n",
       "  </tbody>\n",
       "</table>\n",
       "</div>"
      ],
      "text/plain": [
       "             month  year     sex    age  cause  pop_group  geotype  province  \\\n",
       "SN                                                                             \n",
       "10873926346      6  2011  female  120.0      1        1.0        1         4   \n",
       "11379674937      2  2011  female  120.0      1        1.0        1         5   \n",
       "10628289172      2  2011    male  115.0      1        1.0        1         5   \n",
       "12165800088      6  2011  female  111.0      9        1.0        2         6   \n",
       "10426142239      6  2011    male  111.0      1        1.0        1         8   \n",
       "10310200273      6  2011  female  113.0      1        1.0        2         9   \n",
       "10526056410     11  2010    male  112.0      1        1.0        2         9   \n",
       "\n",
       "             district  munic  sample_weight     date  \n",
       "SN                                                    \n",
       "10873926346       420    477      14.219385  2011-06  \n",
       "11379674937       599    599      10.809685  2011-02  \n",
       "10628289172       599    599      18.002305  2011-02  \n",
       "12165800088       638    668      10.737935  2011-06  \n",
       "10426142239       830    860      10.576153  2011-06  \n",
       "10310200273       933    962      10.317901  2011-06  \n",
       "10526056410       934    966      10.262744  2010-11  "
      ]
     },
     "execution_count": 18,
     "metadata": {},
     "output_type": "execute_result"
    }
   ],
   "source": [
    "# Rows where age is greater than 110\n",
    "clean_df[clean_df['age']>110]"
   ]
  },
  {
   "cell_type": "markdown",
   "metadata": {},
   "source": [
    "Since according to [Wikipedia](https://en.wikipedia.org/wiki/List_of_the_verified_oldest_people) the top two oldest women were 122 and 119 we can conclude that the entries where the age is recorded as 120 is incorrect and thus will be set as NaN. Looking at the rest of the entries where age is older than 110 but less than or equal to 115, it is conceivable that these values are correct. The cause of death is listed as natural (or NaN for the one), which supports the claim that their age being so high is valid. Thus, only the values equal to 120 will be set to NaN."
   ]
  },
  {
   "cell_type": "code",
   "execution_count": 19,
   "metadata": {},
   "outputs": [],
   "source": [
    "clean_df['age'] = clean_df['age'].apply(lambda x: np.nan if x > 115 else x)"
   ]
  },
  {
   "cell_type": "code",
   "execution_count": 20,
   "metadata": {},
   "outputs": [
    {
     "data": {
      "text/html": [
       "<div>\n",
       "<style scoped>\n",
       "    .dataframe tbody tr th:only-of-type {\n",
       "        vertical-align: middle;\n",
       "    }\n",
       "\n",
       "    .dataframe tbody tr th {\n",
       "        vertical-align: top;\n",
       "    }\n",
       "\n",
       "    .dataframe thead th {\n",
       "        text-align: right;\n",
       "    }\n",
       "</style>\n",
       "<table border=\"1\" class=\"dataframe\">\n",
       "  <thead>\n",
       "    <tr style=\"text-align: right;\">\n",
       "      <th></th>\n",
       "      <th>age</th>\n",
       "    </tr>\n",
       "  </thead>\n",
       "  <tbody>\n",
       "    <tr>\n",
       "      <th>count</th>\n",
       "      <td>39251.000000</td>\n",
       "    </tr>\n",
       "    <tr>\n",
       "      <th>mean</th>\n",
       "      <td>44.254541</td>\n",
       "    </tr>\n",
       "    <tr>\n",
       "      <th>std</th>\n",
       "      <td>25.487173</td>\n",
       "    </tr>\n",
       "    <tr>\n",
       "      <th>min</th>\n",
       "      <td>0.000000</td>\n",
       "    </tr>\n",
       "    <tr>\n",
       "      <th>25%</th>\n",
       "      <td>28.000000</td>\n",
       "    </tr>\n",
       "    <tr>\n",
       "      <th>50%</th>\n",
       "      <td>44.000000</td>\n",
       "    </tr>\n",
       "    <tr>\n",
       "      <th>75%</th>\n",
       "      <td>63.000000</td>\n",
       "    </tr>\n",
       "    <tr>\n",
       "      <th>max</th>\n",
       "      <td>115.000000</td>\n",
       "    </tr>\n",
       "  </tbody>\n",
       "</table>\n",
       "</div>"
      ],
      "text/plain": [
       "                age\n",
       "count  39251.000000\n",
       "mean      44.254541\n",
       "std       25.487173\n",
       "min        0.000000\n",
       "25%       28.000000\n",
       "50%       44.000000\n",
       "75%       63.000000\n",
       "max      115.000000"
      ]
     },
     "execution_count": 20,
     "metadata": {},
     "output_type": "execute_result"
    }
   ],
   "source": [
    "clean_df[['age']].describe()"
   ]
  },
  {
   "cell_type": "markdown",
   "metadata": {},
   "source": [
    "We can see that the age range is now conceivably valid. Age being zero is valid since it signifies death at childbirth or death at less than 12 months."
   ]
  },
  {
   "cell_type": "code",
   "execution_count": 21,
   "metadata": {},
   "outputs": [
    {
     "data": {
      "text/plain": [
       "1052"
      ]
     },
     "execution_count": 21,
     "metadata": {},
     "output_type": "execute_result"
    }
   ],
   "source": [
    "clean_df['age'].isna().sum()"
   ]
  },
  {
   "cell_type": "markdown",
   "metadata": {},
   "source": [
    "We can see that there is in fact a large number of missing values for age."
   ]
  },
  {
   "cell_type": "markdown",
   "metadata": {},
   "source": [
    "### Cause\n",
    "Cause is represented numerically with dummy variables representing each category or NaN. Thus, we will convert it to the correct categorical format.<br>\n",
    "\n",
    "Mapping:\n",
    "\n",
    "| Numerical Value | Categorical Value |\n",
    "| :-------------: | :---------------: |\n",
    "| 1               | natural           |\n",
    "| 2               | unnatural         |\n",
    "| 3               | unknown           |\n",
    "| 9               | nan               |\n",
    "\n",
    "Note that there is a distinction between values that are represented as unknown and nan. Unknown signifies data where it was explicitly state that the cause of death is unknown while nan represents missing data."
   ]
  },
  {
   "cell_type": "code",
   "execution_count": 22,
   "metadata": {},
   "outputs": [
    {
     "data": {
      "text/plain": [
       "1    34001\n",
       "2     4722\n",
       "3      843\n",
       "9      737\n",
       "Name: cause, dtype: int64"
      ]
     },
     "execution_count": 22,
     "metadata": {},
     "output_type": "execute_result"
    }
   ],
   "source": [
    "df['cause'].value_counts()"
   ]
  },
  {
   "cell_type": "code",
   "execution_count": 23,
   "metadata": {},
   "outputs": [
    {
     "data": {
      "text/plain": [
       "natural      34001\n",
       "unnatural     4722\n",
       "unknown        843\n",
       "Name: cause, dtype: int64"
      ]
     },
     "execution_count": 23,
     "metadata": {},
     "output_type": "execute_result"
    }
   ],
   "source": [
    "cause_map = {\n",
    "    1: \"natural\",\n",
    "    2: \"unnatural\",\n",
    "    3: \"unknown\",\n",
    "    9: np.NaN\n",
    "}\n",
    "\n",
    "clean_df['cause'] = df['cause'].map(cause_map)\n",
    "clean_df['cause'] = clean_df['cause'].astype(\"category\")\n",
    "clean_df['cause'].value_counts()"
   ]
  },
  {
   "cell_type": "code",
   "execution_count": 24,
   "metadata": {},
   "outputs": [
    {
     "data": {
      "text/plain": [
       "737"
      ]
     },
     "execution_count": 24,
     "metadata": {},
     "output_type": "execute_result"
    }
   ],
   "source": [
    "clean_df['cause'].isna().sum()"
   ]
  },
  {
   "cell_type": "markdown",
   "metadata": {},
   "source": [
    "We can see that there is a large number of missing values for `cause`."
   ]
  },
  {
   "cell_type": "markdown",
   "metadata": {},
   "source": [
    "### pop_group\n",
    "pop_group is represented numerically with dummy variables representing each category. Thus, we will convert it to the correct categorical format. No dummy variables for NaN are present but NaN values are present in original numerical format.\n",
    "<br>\n",
    "\n",
    "Mapping:\n",
    "\n",
    "| Numerical Value | Categorical Value |\n",
    "| :-------------: | :---------------: |\n",
    "| 1               | black             |\n",
    "| 2               | coloured          |\n",
    "| 3               | indian/asian      |\n",
    "| 4               | white             |\n",
    "| 5               | other             |"
   ]
  },
  {
   "cell_type": "code",
   "execution_count": 25,
   "metadata": {},
   "outputs": [
    {
     "data": {
      "text/plain": [
       "1.0    35058\n",
       "2.0     2643\n",
       "4.0     1947\n",
       "3.0      604\n",
       "5.0       36\n",
       "Name: pop_group, dtype: int64"
      ]
     },
     "execution_count": 25,
     "metadata": {},
     "output_type": "execute_result"
    }
   ],
   "source": [
    "df['pop_group'].value_counts()"
   ]
  },
  {
   "cell_type": "code",
   "execution_count": 26,
   "metadata": {},
   "outputs": [
    {
     "data": {
      "text/plain": [
       "15"
      ]
     },
     "execution_count": 26,
     "metadata": {},
     "output_type": "execute_result"
    }
   ],
   "source": [
    "df['pop_group'].isna().sum()"
   ]
  },
  {
   "cell_type": "code",
   "execution_count": 27,
   "metadata": {},
   "outputs": [
    {
     "data": {
      "text/plain": [
       "black           35058\n",
       "coloured         2643\n",
       "white            1947\n",
       "indian/asian      604\n",
       "other              36\n",
       "Name: pop_group, dtype: int64"
      ]
     },
     "execution_count": 27,
     "metadata": {},
     "output_type": "execute_result"
    }
   ],
   "source": [
    "pop_group_map = {\n",
    "    1: \"black\",\n",
    "    2: \"coloured\",\n",
    "    3: \"indian/asian\",\n",
    "    4: \"white\",\n",
    "    5: \"other\"\n",
    "}\n",
    "\n",
    "clean_df['pop_group'] = df['pop_group'].map(pop_group_map)\n",
    "clean_df['pop_group'] = clean_df['pop_group'].astype(\"category\")\n",
    "clean_df['pop_group'].value_counts()"
   ]
  },
  {
   "cell_type": "code",
   "execution_count": 28,
   "metadata": {},
   "outputs": [
    {
     "data": {
      "text/plain": [
       "15"
      ]
     },
     "execution_count": 28,
     "metadata": {},
     "output_type": "execute_result"
    }
   ],
   "source": [
    "df['pop_group'].isna().sum()"
   ]
  },
  {
   "cell_type": "markdown",
   "metadata": {},
   "source": [
    "Number of NaN values is not change with this data wrangling."
   ]
  },
  {
   "cell_type": "markdown",
   "metadata": {},
   "source": [
    "### geotype\n",
    "pop_group is represented numerically with dummy variables representing each category. Thus, we will convert it to the correct categorical format. No dummy variables for NaN are present.\n",
    "<br>\n",
    "\n",
    "Mapping:\n",
    "\n",
    "| Numerical Value | Categorical Value |\n",
    "| :-------------: | :---------------: |\n",
    "| 1               | urban             |\n",
    "| 2               | traditional       |\n",
    "| 3               | farms             |"
   ]
  },
  {
   "cell_type": "code",
   "execution_count": 29,
   "metadata": {},
   "outputs": [
    {
     "data": {
      "text/plain": [
       "1    21797\n",
       "2    16811\n",
       "3     1695\n",
       "Name: geotype, dtype: int64"
      ]
     },
     "execution_count": 29,
     "metadata": {},
     "output_type": "execute_result"
    }
   ],
   "source": [
    "df['geotype'].value_counts()"
   ]
  },
  {
   "cell_type": "code",
   "execution_count": 30,
   "metadata": {},
   "outputs": [
    {
     "data": {
      "text/plain": [
       "urban          21797\n",
       "traditional    16811\n",
       "farms           1695\n",
       "Name: geotype, dtype: int64"
      ]
     },
     "execution_count": 30,
     "metadata": {},
     "output_type": "execute_result"
    }
   ],
   "source": [
    "geotype_map = {\n",
    "    1: \"urban\",\n",
    "    2: \"traditional\",\n",
    "    3: 'farms'\n",
    "}\n",
    "\n",
    "clean_df['geotype'] = df['geotype'].map(geotype_map)\n",
    "clean_df['geotype'] = clean_df['geotype'].astype(\"category\")\n",
    "clean_df['geotype'].value_counts()"
   ]
  },
  {
   "cell_type": "markdown",
   "metadata": {},
   "source": [
    "Number of NaN values:"
   ]
  },
  {
   "cell_type": "code",
   "execution_count": 31,
   "metadata": {},
   "outputs": [
    {
     "data": {
      "text/plain": [
       "0"
      ]
     },
     "execution_count": 31,
     "metadata": {},
     "output_type": "execute_result"
    }
   ],
   "source": [
    "df['geotype'].isna().sum()"
   ]
  },
  {
   "cell_type": "markdown",
   "metadata": {},
   "source": [
    "As you can see no missing values are present in this particular column."
   ]
  },
  {
   "cell_type": "markdown",
   "metadata": {},
   "source": [
    "### province\n",
    "pop_group is represented numerically with dummy variables representing each category. Thus, we will convert it to the correct categorical format. No dummy variables for NaN are present.\n",
    "<br>\n",
    "\n",
    "Mapping:\n",
    "\n",
    "| Numerical Value | Categorical Value |\n",
    "| :-------------: | :---------------: |\n",
    "| 1               | Western Cape      |\n",
    "| 2               | Eastern Cape      |\n",
    "| 3               | Northern Cape     |\n",
    "| 4               | Free State        |\n",
    "| 5               | Kwazulu-Natal     |\n",
    "| 6               | North West        |\n",
    "| 7               | Gauteng           |\n",
    "| 8               | Mpumalanga        |\n",
    "| 9               | Limpopo           |"
   ]
  },
  {
   "cell_type": "code",
   "execution_count": 32,
   "metadata": {},
   "outputs": [
    {
     "data": {
      "text/plain": [
       "5    9357\n",
       "2    7032\n",
       "7    6847\n",
       "9    3697\n",
       "8    3283\n",
       "6    3147\n",
       "4    3117\n",
       "1    2781\n",
       "3    1042\n",
       "Name: province, dtype: int64"
      ]
     },
     "execution_count": 32,
     "metadata": {},
     "output_type": "execute_result"
    }
   ],
   "source": [
    "df['province'].value_counts()"
   ]
  },
  {
   "cell_type": "markdown",
   "metadata": {},
   "source": [
    "Number of NaN values:"
   ]
  },
  {
   "cell_type": "code",
   "execution_count": 33,
   "metadata": {},
   "outputs": [
    {
     "data": {
      "text/plain": [
       "0"
      ]
     },
     "execution_count": 33,
     "metadata": {},
     "output_type": "execute_result"
    }
   ],
   "source": [
    "df['province'].isna().sum()"
   ]
  },
  {
   "cell_type": "code",
   "execution_count": 34,
   "metadata": {},
   "outputs": [
    {
     "data": {
      "text/plain": [
       "Kwazulu-Natal    9357\n",
       "Eastern Cape     7032\n",
       "Gauteng          6847\n",
       "Limpopo          3697\n",
       "Mpumalanga       3283\n",
       "North West       3147\n",
       "Free State       3117\n",
       "Western Cape     2781\n",
       "Northern Cape    1042\n",
       "Name: province, dtype: int64"
      ]
     },
     "execution_count": 34,
     "metadata": {},
     "output_type": "execute_result"
    }
   ],
   "source": [
    "prov_map = {\n",
    "    1: \"Western Cape\",\n",
    "    2: \"Eastern Cape\",\n",
    "    3: \"Northern Cape\",\n",
    "    4: \"Free State\",\n",
    "    5: \"Kwazulu-Natal\",\n",
    "    6: \"North West\",\n",
    "    7: \"Gauteng\",\n",
    "    8: \"Mpumalanga\",\n",
    "    9: \"Limpopo\"\n",
    "}\n",
    "\n",
    "clean_df['province'] = df['province'].map(prov_map)\n",
    "clean_df['province'] = clean_df['province'].astype(\"category\")\n",
    "clean_df['province'].value_counts()"
   ]
  },
  {
   "cell_type": "markdown",
   "metadata": {},
   "source": [
    "### District\n",
    "district is represented numerically with dummy variables representing each category. Thus, we will convert it to the correct categorical format. No dummy variables for NaN are present.\n",
    "<br>\n",
    "\n",
    "Due to the large number of different values, numerical id to string id mappings are stored in text file. Below we retrieve the data from the text file and generate a dictionary mapping from it."
   ]
  },
  {
   "cell_type": "code",
   "execution_count": 35,
   "metadata": {},
   "outputs": [],
   "source": [
    "def get_map_from_txt(file_path):\n",
    "    out_map = {}\n",
    "    with open(file_path) as f:\n",
    "        curr_line = f.readline()\n",
    "        while curr_line:\n",
    "            curr_line_arr = curr_line.split(\" \")\n",
    "\n",
    "            name = curr_line_arr[1]\n",
    "\n",
    "            i = 2\n",
    "            if not curr_line_arr[i].isnumeric():\n",
    "                while i + 1 <len(curr_line_arr):\n",
    "                    name = name + \" \" + curr_line_arr[i]\n",
    "                    if curr_line_arr[i+1].isnumeric():\n",
    "                        break\n",
    "                    else:\n",
    "                        i = i+1\n",
    "\n",
    "            out_map[int(curr_line_arr[0])] = name\n",
    "            curr_line = f.readline()\n",
    "        \n",
    "    return out_map\n",
    "\n",
    "district_map = get_map_from_txt(\"data/districts.txt\")\n",
    "# district_map"
   ]
  },
  {
   "cell_type": "code",
   "execution_count": 36,
   "metadata": {},
   "outputs": [
    {
     "data": {
      "text/plain": [
       "eThekwini Metropolitan       2505\n",
       "City of Johannesburg         2282\n",
       "Ekurhuleni                   1905\n",
       "City of Cape Town            1793\n",
       "City of Tshwane              1411\n",
       "O.R.Tambo                    1344\n",
       "Ehlanzeni                    1250\n",
       "Amathole                     1177\n",
       "Bojanala                     1146\n",
       "Chris Hani                   1087\n",
       "Alfred Nzo                   1060\n",
       "Nkangala                     1040\n",
       "Gert Sibande                  993\n",
       "Thabo Mofutsanyane            988\n",
       "Capricorn                     955\n",
       "UMgungundlovu                 932\n",
       "Zululand                      924\n",
       "Nelson Mandela Bay            906\n",
       "Ngaka Modiri Molema           864\n",
       "Uthungulu                     841\n",
       "Greater Sekhukhune            795\n",
       "Ugu                           766\n",
       "Uthukela                      757\n",
       "Mangaung                      751\n",
       "Mopani                        748\n",
       "Vhembe                        729\n",
       "Sedibeng                      725\n",
       "Lejweleputswa                 724\n",
       "Buffalo City                  653\n",
       "Dr Kenneth Kaunda             605\n",
       "Amajuba                       583\n",
       "iLembe                        547\n",
       "Dr Ruth Segomotsi Mompati     532\n",
       "Umzinyathi                    530\n",
       "West Rand                     524\n",
       "Sisonke                       516\n",
       "Fezile Dabi                   482\n",
       "Waterberg                     470\n",
       "Umkhanyakude                  456\n",
       "Ukhahlamba                    440\n",
       "Cacadu                        365\n",
       "Cape Winelands                346\n",
       "Frances Baard                 342\n",
       "Eden                          296\n",
       "John Taolo Gaetsewe           228\n",
       "Pixley ka Seme                194\n",
       "Siyanda                       191\n",
       "West Coast                    181\n",
       "Xhariep                       172\n",
       "Overberg                      112\n",
       "Namakwa                        87\n",
       "Central Karoo                  53\n",
       "Name: district, dtype: int64"
      ]
     },
     "execution_count": 36,
     "metadata": {},
     "output_type": "execute_result"
    }
   ],
   "source": [
    "clean_df['district'] = df['district'].map(district_map)\n",
    "clean_df['district'] = clean_df['district'].astype(\"category\")\n",
    "clean_df['district'].value_counts()"
   ]
  },
  {
   "cell_type": "markdown",
   "metadata": {},
   "source": [
    "### Municipality\n",
    "municipality is represented numerically with dummy variables representing each category. Thus, we will convert it to the correct categorical format. No dummy variables for NaN are present.\n",
    "<br>\n",
    "\n",
    "Due to the large number of different values, numerical id to string id mappings are stored in text file. Below we retrieve the data from the text file and generate a dictionary mapping from it."
   ]
  },
  {
   "cell_type": "code",
   "execution_count": 37,
   "metadata": {},
   "outputs": [],
   "source": [
    "munic_map = get_map_from_txt(\"data/munic.txt\")\n",
    "# munic_map"
   ]
  },
  {
   "cell_type": "code",
   "execution_count": 38,
   "metadata": {},
   "outputs": [
    {
     "data": {
      "text/plain": [
       "eThekwini               2505\n",
       "City of Johannesburg    2282\n",
       "Ekurhuleni              1905\n",
       "City of Cape Town       1793\n",
       "City of Tshwane         1411\n",
       "                        ... \n",
       "Karoo Hoogland             8\n",
       "Laingsburg                 8\n",
       "Prince Albert              8\n",
       "Renosterberg               7\n",
       "Mier                       5\n",
       "Name: munic, Length: 234, dtype: int64"
      ]
     },
     "execution_count": 38,
     "metadata": {},
     "output_type": "execute_result"
    }
   ],
   "source": [
    "clean_df['munic'] = df['munic'].map(munic_map)\n",
    "clean_df['munic'] = clean_df['munic'].astype(\"category\")\n",
    "clean_df['munic'].value_counts()"
   ]
  },
  {
   "cell_type": "markdown",
   "metadata": {},
   "source": [
    "## Tidyness of Data"
   ]
  },
  {
   "cell_type": "code",
   "execution_count": 39,
   "metadata": {},
   "outputs": [
    {
     "data": {
      "text/html": [
       "<div>\n",
       "<style scoped>\n",
       "    .dataframe tbody tr th:only-of-type {\n",
       "        vertical-align: middle;\n",
       "    }\n",
       "\n",
       "    .dataframe tbody tr th {\n",
       "        vertical-align: top;\n",
       "    }\n",
       "\n",
       "    .dataframe thead th {\n",
       "        text-align: right;\n",
       "    }\n",
       "</style>\n",
       "<table border=\"1\" class=\"dataframe\">\n",
       "  <thead>\n",
       "    <tr style=\"text-align: right;\">\n",
       "      <th></th>\n",
       "      <th>month</th>\n",
       "      <th>year</th>\n",
       "      <th>sex</th>\n",
       "      <th>age</th>\n",
       "      <th>cause</th>\n",
       "      <th>pop_group</th>\n",
       "      <th>geotype</th>\n",
       "      <th>province</th>\n",
       "      <th>district</th>\n",
       "      <th>munic</th>\n",
       "      <th>sample_weight</th>\n",
       "      <th>date</th>\n",
       "    </tr>\n",
       "    <tr>\n",
       "      <th>SN</th>\n",
       "      <th></th>\n",
       "      <th></th>\n",
       "      <th></th>\n",
       "      <th></th>\n",
       "      <th></th>\n",
       "      <th></th>\n",
       "      <th></th>\n",
       "      <th></th>\n",
       "      <th></th>\n",
       "      <th></th>\n",
       "      <th></th>\n",
       "      <th></th>\n",
       "    </tr>\n",
       "  </thead>\n",
       "  <tbody>\n",
       "    <tr>\n",
       "      <th>11809257867</th>\n",
       "      <td>3</td>\n",
       "      <td>2011</td>\n",
       "      <td>female</td>\n",
       "      <td>0.0</td>\n",
       "      <td>natural</td>\n",
       "      <td>coloured</td>\n",
       "      <td>farms</td>\n",
       "      <td>Western Cape</td>\n",
       "      <td>West Coast</td>\n",
       "      <td>Matzikama</td>\n",
       "      <td>28.748530</td>\n",
       "      <td>2011-03</td>\n",
       "    </tr>\n",
       "    <tr>\n",
       "      <th>11916034982</th>\n",
       "      <td>10</td>\n",
       "      <td>2011</td>\n",
       "      <td>male</td>\n",
       "      <td>25.0</td>\n",
       "      <td>NaN</td>\n",
       "      <td>black</td>\n",
       "      <td>urban</td>\n",
       "      <td>Western Cape</td>\n",
       "      <td>West Coast</td>\n",
       "      <td>Matzikama</td>\n",
       "      <td>11.461345</td>\n",
       "      <td>2011-10</td>\n",
       "    </tr>\n",
       "    <tr>\n",
       "      <th>10104528209</th>\n",
       "      <td>8</td>\n",
       "      <td>2011</td>\n",
       "      <td>male</td>\n",
       "      <td>85.0</td>\n",
       "      <td>natural</td>\n",
       "      <td>coloured</td>\n",
       "      <td>urban</td>\n",
       "      <td>Western Cape</td>\n",
       "      <td>West Coast</td>\n",
       "      <td>Matzikama</td>\n",
       "      <td>10.559567</td>\n",
       "      <td>2011-08</td>\n",
       "    </tr>\n",
       "    <tr>\n",
       "      <th>10104521225</th>\n",
       "      <td>5</td>\n",
       "      <td>2011</td>\n",
       "      <td>male</td>\n",
       "      <td>72.0</td>\n",
       "      <td>natural</td>\n",
       "      <td>coloured</td>\n",
       "      <td>urban</td>\n",
       "      <td>Western Cape</td>\n",
       "      <td>West Coast</td>\n",
       "      <td>Matzikama</td>\n",
       "      <td>11.653297</td>\n",
       "      <td>2011-05</td>\n",
       "    </tr>\n",
       "    <tr>\n",
       "      <th>11917226239</th>\n",
       "      <td>9</td>\n",
       "      <td>2011</td>\n",
       "      <td>male</td>\n",
       "      <td>73.0</td>\n",
       "      <td>natural</td>\n",
       "      <td>coloured</td>\n",
       "      <td>urban</td>\n",
       "      <td>Western Cape</td>\n",
       "      <td>West Coast</td>\n",
       "      <td>Matzikama</td>\n",
       "      <td>11.653297</td>\n",
       "      <td>2011-09</td>\n",
       "    </tr>\n",
       "  </tbody>\n",
       "</table>\n",
       "</div>"
      ],
      "text/plain": [
       "             month  year     sex   age    cause pop_group geotype  \\\n",
       "SN                                                                  \n",
       "11809257867      3  2011  female   0.0  natural  coloured   farms   \n",
       "11916034982     10  2011    male  25.0      NaN     black   urban   \n",
       "10104528209      8  2011    male  85.0  natural  coloured   urban   \n",
       "10104521225      5  2011    male  72.0  natural  coloured   urban   \n",
       "11917226239      9  2011    male  73.0  natural  coloured   urban   \n",
       "\n",
       "                 province    district      munic  sample_weight     date  \n",
       "SN                                                                        \n",
       "11809257867  Western Cape  West Coast  Matzikama      28.748530  2011-03  \n",
       "11916034982  Western Cape  West Coast  Matzikama      11.461345  2011-10  \n",
       "10104528209  Western Cape  West Coast  Matzikama      10.559567  2011-08  \n",
       "10104521225  Western Cape  West Coast  Matzikama      11.653297  2011-05  \n",
       "11917226239  Western Cape  West Coast  Matzikama      11.653297  2011-09  "
      ]
     },
     "execution_count": 39,
     "metadata": {},
     "output_type": "execute_result"
    }
   ],
   "source": [
    "clean_df.head()"
   ]
  },
  {
   "cell_type": "markdown",
   "metadata": {},
   "source": [
    "As we can see from the above the data is tidy. I.e., all columns represent a variable, all rows represent a single observation, and all cells represent a single value."
   ]
  },
  {
   "cell_type": "markdown",
   "metadata": {},
   "source": [
    "## Sense Checking\n",
    "### Format"
   ]
  },
  {
   "cell_type": "code",
   "execution_count": 40,
   "metadata": {},
   "outputs": [
    {
     "name": "stdout",
     "output_type": "stream",
     "text": [
      "<class 'pandas.core.frame.DataFrame'>\n",
      "Int64Index: 40303 entries, 11809257867 to 11407403066\n",
      "Data columns (total 12 columns):\n",
      " #   Column         Non-Null Count  Dtype    \n",
      "---  ------         --------------  -----    \n",
      " 0   month          40303 non-null  int64    \n",
      " 1   year           40303 non-null  int64    \n",
      " 2   sex            40149 non-null  category \n",
      " 3   age            39251 non-null  float64  \n",
      " 4   cause          39566 non-null  category \n",
      " 5   pop_group      40288 non-null  category \n",
      " 6   geotype        40303 non-null  category \n",
      " 7   province       40303 non-null  category \n",
      " 8   district       40303 non-null  category \n",
      " 9   munic          40303 non-null  category \n",
      " 10  sample_weight  40303 non-null  float64  \n",
      " 11  date           40303 non-null  period[M]\n",
      "dtypes: category(7), float64(2), int64(2), period[M](1)\n",
      "memory usage: 2.2 MB\n"
     ]
    }
   ],
   "source": [
    "clean_df.info()"
   ]
  },
  {
   "cell_type": "markdown",
   "metadata": {},
   "source": [
    "From the above we can see that all the columns are in the correct format. Numerical representations of categorical values have been changed to their correct categorical representation and the columns that should be numerical have remained that way. "
   ]
  },
  {
   "cell_type": "markdown",
   "metadata": {},
   "source": [
    "### Numerical Data"
   ]
  },
  {
   "cell_type": "code",
   "execution_count": 41,
   "metadata": {},
   "outputs": [
    {
     "data": {
      "text/html": [
       "<div>\n",
       "<style scoped>\n",
       "    .dataframe tbody tr th:only-of-type {\n",
       "        vertical-align: middle;\n",
       "    }\n",
       "\n",
       "    .dataframe tbody tr th {\n",
       "        vertical-align: top;\n",
       "    }\n",
       "\n",
       "    .dataframe thead th {\n",
       "        text-align: right;\n",
       "    }\n",
       "</style>\n",
       "<table border=\"1\" class=\"dataframe\">\n",
       "  <thead>\n",
       "    <tr style=\"text-align: right;\">\n",
       "      <th></th>\n",
       "      <th>month</th>\n",
       "      <th>year</th>\n",
       "      <th>age</th>\n",
       "      <th>sample_weight</th>\n",
       "    </tr>\n",
       "  </thead>\n",
       "  <tbody>\n",
       "    <tr>\n",
       "      <th>count</th>\n",
       "      <td>40303.000000</td>\n",
       "      <td>40303.000000</td>\n",
       "      <td>39251.000000</td>\n",
       "      <td>40303.000000</td>\n",
       "    </tr>\n",
       "    <tr>\n",
       "      <th>mean</th>\n",
       "      <td>6.979406</td>\n",
       "      <td>2010.758256</td>\n",
       "      <td>44.254541</td>\n",
       "      <td>11.613710</td>\n",
       "    </tr>\n",
       "    <tr>\n",
       "      <th>std</th>\n",
       "      <td>3.340408</td>\n",
       "      <td>0.428145</td>\n",
       "      <td>25.487173</td>\n",
       "      <td>1.872620</td>\n",
       "    </tr>\n",
       "    <tr>\n",
       "      <th>min</th>\n",
       "      <td>1.000000</td>\n",
       "      <td>2010.000000</td>\n",
       "      <td>0.000000</td>\n",
       "      <td>7.837442</td>\n",
       "    </tr>\n",
       "    <tr>\n",
       "      <th>25%</th>\n",
       "      <td>4.000000</td>\n",
       "      <td>2011.000000</td>\n",
       "      <td>28.000000</td>\n",
       "      <td>10.449593</td>\n",
       "    </tr>\n",
       "    <tr>\n",
       "      <th>50%</th>\n",
       "      <td>7.000000</td>\n",
       "      <td>2011.000000</td>\n",
       "      <td>44.000000</td>\n",
       "      <td>10.854004</td>\n",
       "    </tr>\n",
       "    <tr>\n",
       "      <th>75%</th>\n",
       "      <td>10.000000</td>\n",
       "      <td>2011.000000</td>\n",
       "      <td>63.000000</td>\n",
       "      <td>11.704725</td>\n",
       "    </tr>\n",
       "    <tr>\n",
       "      <th>max</th>\n",
       "      <td>12.000000</td>\n",
       "      <td>2011.000000</td>\n",
       "      <td>115.000000</td>\n",
       "      <td>30.234886</td>\n",
       "    </tr>\n",
       "  </tbody>\n",
       "</table>\n",
       "</div>"
      ],
      "text/plain": [
       "              month          year           age  sample_weight\n",
       "count  40303.000000  40303.000000  39251.000000   40303.000000\n",
       "mean       6.979406   2010.758256     44.254541      11.613710\n",
       "std        3.340408      0.428145     25.487173       1.872620\n",
       "min        1.000000   2010.000000      0.000000       7.837442\n",
       "25%        4.000000   2011.000000     28.000000      10.449593\n",
       "50%        7.000000   2011.000000     44.000000      10.854004\n",
       "75%       10.000000   2011.000000     63.000000      11.704725\n",
       "max       12.000000   2011.000000    115.000000      30.234886"
      ]
     },
     "execution_count": 41,
     "metadata": {},
     "output_type": "execute_result"
    }
   ],
   "source": [
    "clean_df.describe()"
   ]
  },
  {
   "cell_type": "markdown",
   "metadata": {},
   "source": [
    "We can see from the above that all the numerical values have valid ranges, i.e. month is between 1-12 and age is postive and less than or equal to 115. We can see that year only takes on the values of 2010 and 2011 which is conceivable since the survey was taken during that time."
   ]
  },
  {
   "cell_type": "markdown",
   "metadata": {},
   "source": [
    "### Categorical Data"
   ]
  },
  {
   "cell_type": "markdown",
   "metadata": {},
   "source": [
    "**sex**"
   ]
  },
  {
   "cell_type": "code",
   "execution_count": 42,
   "metadata": {},
   "outputs": [
    {
     "data": {
      "text/plain": [
       "male      20909\n",
       "female    19240\n",
       "Name: sex, dtype: int64"
      ]
     },
     "execution_count": 42,
     "metadata": {},
     "output_type": "execute_result"
    }
   ],
   "source": [
    "clean_df['sex'].value_counts()"
   ]
  },
  {
   "cell_type": "code",
   "execution_count": 43,
   "metadata": {},
   "outputs": [
    {
     "data": {
      "text/plain": [
       "154"
      ]
     },
     "execution_count": 43,
     "metadata": {},
     "output_type": "execute_result"
    }
   ],
   "source": [
    "clean_df['sex'].isna().sum()"
   ]
  },
  {
   "cell_type": "markdown",
   "metadata": {},
   "source": [
    "As we can see the present values for sex are correct."
   ]
  },
  {
   "cell_type": "markdown",
   "metadata": {},
   "source": [
    "**cause**"
   ]
  },
  {
   "cell_type": "code",
   "execution_count": 44,
   "metadata": {},
   "outputs": [
    {
     "data": {
      "text/plain": [
       "natural      34001\n",
       "unnatural     4722\n",
       "unknown        843\n",
       "Name: cause, dtype: int64"
      ]
     },
     "execution_count": 44,
     "metadata": {},
     "output_type": "execute_result"
    }
   ],
   "source": [
    "clean_df['cause'].value_counts()"
   ]
  },
  {
   "cell_type": "code",
   "execution_count": 45,
   "metadata": {},
   "outputs": [
    {
     "data": {
      "text/plain": [
       "737"
      ]
     },
     "execution_count": 45,
     "metadata": {},
     "output_type": "execute_result"
    }
   ],
   "source": [
    "clean_df['cause'].isna().sum()"
   ]
  },
  {
   "cell_type": "markdown",
   "metadata": {},
   "source": [
    "As we can see the present values for cause are correct."
   ]
  },
  {
   "cell_type": "markdown",
   "metadata": {},
   "source": [
    "**pop_group**"
   ]
  },
  {
   "cell_type": "markdown",
   "metadata": {},
   "source": [
    "clean_df['pop_group'].value_counts()"
   ]
  },
  {
   "cell_type": "markdown",
   "metadata": {},
   "source": [
    "As we can see the present values for pop_group are correct."
   ]
  },
  {
   "cell_type": "markdown",
   "metadata": {},
   "source": [
    "**geotype**"
   ]
  },
  {
   "cell_type": "code",
   "execution_count": 46,
   "metadata": {},
   "outputs": [
    {
     "data": {
      "text/plain": [
       "urban          21797\n",
       "traditional    16811\n",
       "farms           1695\n",
       "Name: geotype, dtype: int64"
      ]
     },
     "execution_count": 46,
     "metadata": {},
     "output_type": "execute_result"
    }
   ],
   "source": [
    "clean_df['geotype'].value_counts()"
   ]
  },
  {
   "cell_type": "code",
   "execution_count": 47,
   "metadata": {},
   "outputs": [
    {
     "data": {
      "text/plain": [
       "0"
      ]
     },
     "execution_count": 47,
     "metadata": {},
     "output_type": "execute_result"
    }
   ],
   "source": [
    "clean_df['geotype'].isna().sum()"
   ]
  },
  {
   "cell_type": "markdown",
   "metadata": {},
   "source": [
    "As we can see the present values for geotype are correct."
   ]
  },
  {
   "cell_type": "markdown",
   "metadata": {},
   "source": [
    "**province**"
   ]
  },
  {
   "cell_type": "code",
   "execution_count": 48,
   "metadata": {},
   "outputs": [
    {
     "data": {
      "text/plain": [
       "Kwazulu-Natal    9357\n",
       "Eastern Cape     7032\n",
       "Gauteng          6847\n",
       "Limpopo          3697\n",
       "Mpumalanga       3283\n",
       "North West       3147\n",
       "Free State       3117\n",
       "Western Cape     2781\n",
       "Northern Cape    1042\n",
       "Name: province, dtype: int64"
      ]
     },
     "execution_count": 48,
     "metadata": {},
     "output_type": "execute_result"
    }
   ],
   "source": [
    "clean_df['province'].value_counts()"
   ]
  },
  {
   "cell_type": "code",
   "execution_count": 49,
   "metadata": {},
   "outputs": [
    {
     "data": {
      "text/plain": [
       "0"
      ]
     },
     "execution_count": 49,
     "metadata": {},
     "output_type": "execute_result"
    }
   ],
   "source": [
    "clean_df['province'].isna().sum()"
   ]
  },
  {
   "cell_type": "markdown",
   "metadata": {},
   "source": [
    "As we can see the present values for province are correct."
   ]
  },
  {
   "cell_type": "markdown",
   "metadata": {},
   "source": [
    "**district**"
   ]
  },
  {
   "cell_type": "code",
   "execution_count": 50,
   "metadata": {},
   "outputs": [
    {
     "data": {
      "text/plain": [
       "eThekwini Metropolitan       2505\n",
       "City of Johannesburg         2282\n",
       "Ekurhuleni                   1905\n",
       "City of Cape Town            1793\n",
       "City of Tshwane              1411\n",
       "O.R.Tambo                    1344\n",
       "Ehlanzeni                    1250\n",
       "Amathole                     1177\n",
       "Bojanala                     1146\n",
       "Chris Hani                   1087\n",
       "Alfred Nzo                   1060\n",
       "Nkangala                     1040\n",
       "Gert Sibande                  993\n",
       "Thabo Mofutsanyane            988\n",
       "Capricorn                     955\n",
       "UMgungundlovu                 932\n",
       "Zululand                      924\n",
       "Nelson Mandela Bay            906\n",
       "Ngaka Modiri Molema           864\n",
       "Uthungulu                     841\n",
       "Greater Sekhukhune            795\n",
       "Ugu                           766\n",
       "Uthukela                      757\n",
       "Mangaung                      751\n",
       "Mopani                        748\n",
       "Vhembe                        729\n",
       "Sedibeng                      725\n",
       "Lejweleputswa                 724\n",
       "Buffalo City                  653\n",
       "Dr Kenneth Kaunda             605\n",
       "Amajuba                       583\n",
       "iLembe                        547\n",
       "Dr Ruth Segomotsi Mompati     532\n",
       "Umzinyathi                    530\n",
       "West Rand                     524\n",
       "Sisonke                       516\n",
       "Fezile Dabi                   482\n",
       "Waterberg                     470\n",
       "Umkhanyakude                  456\n",
       "Ukhahlamba                    440\n",
       "Cacadu                        365\n",
       "Cape Winelands                346\n",
       "Frances Baard                 342\n",
       "Eden                          296\n",
       "John Taolo Gaetsewe           228\n",
       "Pixley ka Seme                194\n",
       "Siyanda                       191\n",
       "West Coast                    181\n",
       "Xhariep                       172\n",
       "Overberg                      112\n",
       "Namakwa                        87\n",
       "Central Karoo                  53\n",
       "Name: district, dtype: int64"
      ]
     },
     "execution_count": 50,
     "metadata": {},
     "output_type": "execute_result"
    }
   ],
   "source": [
    "clean_df['district'].value_counts()"
   ]
  },
  {
   "cell_type": "code",
   "execution_count": 51,
   "metadata": {},
   "outputs": [
    {
     "data": {
      "text/plain": [
       "0"
      ]
     },
     "execution_count": 51,
     "metadata": {},
     "output_type": "execute_result"
    }
   ],
   "source": [
    "clean_df['district'].isna().sum()"
   ]
  },
  {
   "cell_type": "markdown",
   "metadata": {},
   "source": [
    "As we can see the present values for district are correct."
   ]
  },
  {
   "cell_type": "markdown",
   "metadata": {},
   "source": [
    "**munic**"
   ]
  },
  {
   "cell_type": "code",
   "execution_count": 52,
   "metadata": {},
   "outputs": [
    {
     "data": {
      "text/plain": [
       "eThekwini                 2505\n",
       "City of Johannesburg      2282\n",
       "Ekurhuleni                1905\n",
       "City of Cape Town         1793\n",
       "City of Tshwane           1411\n",
       "Nelson Mandela Bay         906\n",
       "Mangaung                   751\n",
       "Buffalo City               653\n",
       "Emfuleni                   588\n",
       "The Msunduzi               507\n",
       "Maluti a Phofung           489\n",
       "Mbombela                   437\n",
       "Matjhabeng                 435\n",
       "Bushbuckridge              417\n",
       "King Sabata Dalindyebo     411\n",
       "Newcastle                  404\n",
       "Polokwane                  402\n",
       "Mbizana                    381\n",
       "Mnquma                     350\n",
       "City of Matlosana          350\n",
       "Makhado                    340\n",
       "Rustenburg                 333\n",
       "Thulamela                  325\n",
       "Madibeng                   321\n",
       "Ngquza Hill                308\n",
       "Mbhashe                    308\n",
       "Thembisile                 308\n",
       "Nkomazi                    302\n",
       "Matatiele                  285\n",
       "Mogalakwena                271\n",
       "Nyandeni                   270\n",
       "Greater Tzaneen            262\n",
       "Emnambithi/Ladysmith       256\n",
       "Abaqulusi                  252\n",
       "Lukanji                    252\n",
       "Moses Kotane               252\n",
       "Emalahleni-MP              249\n",
       "Mafikeng                   249\n",
       "Dr JS Moroka               245\n",
       "Umzimvubu                  241\n",
       "Greater Taung              239\n",
       "Albert Luthuli             237\n",
       "uMhlathuze                 236\n",
       "Hibiscus Coast             233\n",
       "uMlalazi                   229\n",
       "Umzimkhulu                 228\n",
       "Elias Motsoaledi           224\n",
       "Nqutu                      223\n",
       "Intsika Yethu              221\n",
       "Govan Mbeki                218\n",
       "Mhlontlo                   215\n",
       "Nongoma                    215\n",
       "Greater Tubatse            214\n",
       "Mogale City                210\n",
       "Umzumbe                    201\n",
       "Ulundi                     200\n",
       "Engcobo                    199\n",
       "Moretele                   197\n",
       "Sol Plaatjie               197\n",
       "Makhuduthamaga             194\n",
       "Emalahleni-EC              183\n",
       "Senqu                      181\n",
       "Greater Letaba             180\n",
       "Moqhaka                    178\n",
       "Lepele-Nkumpi              176\n",
       "Amahlathi                  176\n",
       "KwaDukuza                  175\n",
       "Elundini                   172\n",
       "Ditsobotla                 172\n",
       "Nkonkobe                   170\n",
       "Okhahlamba                 167\n",
       "Mtubatuba                  163\n",
       "Msinga                     159\n",
       "Ratlou                     159\n",
       "Uphongolo                  158\n",
       "Greater Giyani             156\n",
       "Setsoto                    156\n",
       "Ntabankulu                 153\n",
       "Merafong City              150\n",
       "Mkhondo                    149\n",
       "Ndwedwe                    149\n",
       "Aganang                    146\n",
       "Dannhauser                 143\n",
       "Tswaing                    143\n",
       "Msukaligwa                 141\n",
       "Ramotshere Moiloa          141\n",
       "Port St Johns              140\n",
       "Blouberg                   139\n",
       "Ngwathe                    138\n",
       "Imbabazane                 136\n",
       "Steve Tshwete              134\n",
       "Indaka                     131\n",
       "Dihlabeng                  131\n",
       "Nkandla                    128\n",
       "uMshwathi                  124\n",
       "Nala                       123\n",
       "Ingwe                      119\n",
       "Umuziwabantu               118\n",
       "Ubuhlebezwe                118\n",
       "Tlokwe City Council        118\n",
       "Mandeni                    116\n",
       "Joe Morolong               115\n",
       "Pixley Ka Seme             114\n",
       "Jozini                     112\n",
       "Metsimaholo                111\n",
       "Kagisano/Molopo            111\n",
       "Drakenstein                110\n",
       "Maphumulo                  107\n",
       "Ephraim Mogale             102\n",
       "Mfolozi                    102\n",
       "Randfontein                101\n",
       "eDumbe                      99\n",
       "Ngqushwa                    97\n",
       "Lekwa                       97\n",
       "Umvoti                      95\n",
       "George                      93\n",
       "Molemole                    92\n",
       "Ga-Segonyane                91\n",
       "Ba-Phalaborwa               87\n",
       "Sakhisizwe                  86\n",
       "Vulamehlo                   86\n",
       "Ntambanana                  85\n",
       "Umhlabuyalingana            84\n",
       "Nketoana                    83\n",
       "Maquassi Hills              83\n",
       "Lesedi                      81\n",
       "uMngeni                     79\n",
       "Breede Valley               78\n",
       "Masilonyana                 77\n",
       "Phokwane                    77\n",
       "Hlabisa                     76\n",
       "//Khara Hais                76\n",
       "Mkhambathini                75\n",
       "Lephalale                   74\n",
       "Inxuba Yethemba             72\n",
       "Makana                      72\n",
       "Richmond                    68\n",
       "Umtshezi                    67\n",
       "Phumelela                   67\n",
       "Ezingoleni                  66\n",
       "Kouga                       65\n",
       "Mamusa                      65\n",
       "Stellenbosch                65\n",
       "Maruleng                    63\n",
       "Westonaria                  63\n",
       "Victor Khanye               63\n",
       "Mantsopa                    62\n",
       "Lekwa-Teemane               62\n",
       "Umdoni                      62\n",
       "Fetakgomo                   61\n",
       "Mthonjaneni                 61\n",
       "Tswelopele                  60\n",
       "Ndlambe                     60\n",
       "Oudtshoorn                  59\n",
       "Kopanong                    58\n",
       "Midvaal                     56\n",
       "Mafube                      55\n",
       "Naledi-NW                   55\n",
       "Ventersdorp                 54\n",
       "Endumeni                    53\n",
       "Swartland                   51\n",
       "Thaba Chweu                 50\n",
       "Kai !Garib                  49\n",
       "Witzenberg                  48\n",
       "Emthanjeni                  47\n",
       "Impendle                    47\n",
       "Saldanha Bay                47\n",
       "Gariep                      46\n",
       "Tsolwana                    46\n",
       "Langeberg                   45\n",
       "Mutale                      44\n",
       "Umjindi                     44\n",
       "Kgetlengrivier              43\n",
       "Sundays River Valley        42\n",
       "Overstrand                  42\n",
       "Mohokare                    42\n",
       "Maletswai                   41\n",
       "Emakhazeni                  41\n",
       "Great Kei                   41\n",
       "Mossel Bay                  41\n",
       "Dikgatlong                  40\n",
       "Letsemeng                   40\n",
       "Modimolle                   40\n",
       "Camdeboo                    39\n",
       "Theewaterskloof             38\n",
       "Matzikama                   38\n",
       "Siyancuma                   38\n",
       "Dipaleseng                  37\n",
       "Beaufort West               37\n",
       "Bela-Bela                   36\n",
       "Emadlangeni                 36\n",
       "Nama Khoi                   36\n",
       "Nxuba                       35\n",
       "Greater Kokstad             35\n",
       "Blue Crane Route            33\n",
       "Mpofana                     32\n",
       "Naledi-FS                   32\n",
       "Thabazimbi                  31\n",
       "Umsobomvu                   31\n",
       "Knysna                      30\n",
       "Tsantsabane                 30\n",
       "Tokologo                    29\n",
       "Hessequa                    29\n",
       "Inkwanca                    28\n",
       "Bergrivier                  28\n",
       "Magareng                    28\n",
       "Bitou                       28\n",
       "Kou-Kamma                   26\n",
       "Siyathemba                  24\n",
       "Gamagara                    22\n",
       "The Big                     21\n",
       "Musina                      20\n",
       "Mookgopong                  18\n",
       "Thembelihle                 18\n",
       "Ubuntu                      17\n",
       "Cederberg                   17\n",
       "Baviaans                    17\n",
       "Kwa Sani                    16\n",
       "!Kheis                      16\n",
       "Kannaland                   16\n",
       "Cape Agulhas                16\n",
       "Swellendam                  16\n",
       "Kgatelopele                 15\n",
       "Hantam                      15\n",
       "Kareeberg                   12\n",
       "Ikwezi                      11\n",
       "KhÃ¢i-Ma                    10\n",
       "Kamiesberg                   9\n",
       "Richtersveld                 9\n",
       "Karoo Hoogland               8\n",
       "Laingsburg                   8\n",
       "Prince Albert                8\n",
       "Renosterberg                 7\n",
       "Mier                         5\n",
       "Name: munic, dtype: int64"
      ]
     },
     "execution_count": 52,
     "metadata": {},
     "output_type": "execute_result"
    }
   ],
   "source": [
    "pd.set_option(\"max_rows\", None)\n",
    "clean_df['munic'].value_counts()"
   ]
  },
  {
   "cell_type": "code",
   "execution_count": 53,
   "metadata": {},
   "outputs": [],
   "source": [
    "pd.set_option(\"max_rows\", None)"
   ]
  },
  {
   "cell_type": "code",
   "execution_count": 54,
   "metadata": {},
   "outputs": [
    {
     "data": {
      "text/plain": [
       "0"
      ]
     },
     "execution_count": 54,
     "metadata": {},
     "output_type": "execute_result"
    }
   ],
   "source": [
    "clean_df['munic'].isna().sum()"
   ]
  },
  {
   "cell_type": "markdown",
   "metadata": {},
   "source": [
    "As we can see the present values for munic are correct."
   ]
  },
  {
   "cell_type": "markdown",
   "metadata": {},
   "source": [
    "**NaN Values Present**"
   ]
  },
  {
   "cell_type": "code",
   "execution_count": 55,
   "metadata": {},
   "outputs": [
    {
     "data": {
      "text/plain": [
       "month               0\n",
       "year                0\n",
       "sex               154\n",
       "age              1052\n",
       "cause             737\n",
       "pop_group          15\n",
       "geotype             0\n",
       "province            0\n",
       "district            0\n",
       "munic               0\n",
       "sample_weight       0\n",
       "date                0\n",
       "dtype: int64"
      ]
     },
     "execution_count": 55,
     "metadata": {},
     "output_type": "execute_result"
    }
   ],
   "source": [
    "clean_df.isna().sum()"
   ]
  },
  {
   "cell_type": "code",
   "execution_count": 56,
   "metadata": {},
   "outputs": [
    {
     "data": {
      "text/html": [
       "<div>\n",
       "<style scoped>\n",
       "    .dataframe tbody tr th:only-of-type {\n",
       "        vertical-align: middle;\n",
       "    }\n",
       "\n",
       "    .dataframe tbody tr th {\n",
       "        vertical-align: top;\n",
       "    }\n",
       "\n",
       "    .dataframe thead th {\n",
       "        text-align: right;\n",
       "    }\n",
       "</style>\n",
       "<table border=\"1\" class=\"dataframe\">\n",
       "  <thead>\n",
       "    <tr style=\"text-align: right;\">\n",
       "      <th></th>\n",
       "      <th>month</th>\n",
       "      <th>year</th>\n",
       "      <th>sex</th>\n",
       "      <th>age</th>\n",
       "      <th>cause</th>\n",
       "      <th>pop_group</th>\n",
       "      <th>geotype</th>\n",
       "      <th>province</th>\n",
       "      <th>district</th>\n",
       "      <th>munic</th>\n",
       "      <th>sample_weight</th>\n",
       "      <th>date</th>\n",
       "    </tr>\n",
       "    <tr>\n",
       "      <th>SN</th>\n",
       "      <th></th>\n",
       "      <th></th>\n",
       "      <th></th>\n",
       "      <th></th>\n",
       "      <th></th>\n",
       "      <th></th>\n",
       "      <th></th>\n",
       "      <th></th>\n",
       "      <th></th>\n",
       "      <th></th>\n",
       "      <th></th>\n",
       "      <th></th>\n",
       "    </tr>\n",
       "  </thead>\n",
       "  <tbody>\n",
       "    <tr>\n",
       "      <th>11809257867</th>\n",
       "      <td>3</td>\n",
       "      <td>2011</td>\n",
       "      <td>female</td>\n",
       "      <td>0.0</td>\n",
       "      <td>natural</td>\n",
       "      <td>coloured</td>\n",
       "      <td>farms</td>\n",
       "      <td>Western Cape</td>\n",
       "      <td>West Coast</td>\n",
       "      <td>Matzikama</td>\n",
       "      <td>28.748530</td>\n",
       "      <td>2011-03</td>\n",
       "    </tr>\n",
       "    <tr>\n",
       "      <th>11916034982</th>\n",
       "      <td>10</td>\n",
       "      <td>2011</td>\n",
       "      <td>male</td>\n",
       "      <td>25.0</td>\n",
       "      <td>NaN</td>\n",
       "      <td>black</td>\n",
       "      <td>urban</td>\n",
       "      <td>Western Cape</td>\n",
       "      <td>West Coast</td>\n",
       "      <td>Matzikama</td>\n",
       "      <td>11.461345</td>\n",
       "      <td>2011-10</td>\n",
       "    </tr>\n",
       "    <tr>\n",
       "      <th>10104528209</th>\n",
       "      <td>8</td>\n",
       "      <td>2011</td>\n",
       "      <td>male</td>\n",
       "      <td>85.0</td>\n",
       "      <td>natural</td>\n",
       "      <td>coloured</td>\n",
       "      <td>urban</td>\n",
       "      <td>Western Cape</td>\n",
       "      <td>West Coast</td>\n",
       "      <td>Matzikama</td>\n",
       "      <td>10.559567</td>\n",
       "      <td>2011-08</td>\n",
       "    </tr>\n",
       "    <tr>\n",
       "      <th>10104521225</th>\n",
       "      <td>5</td>\n",
       "      <td>2011</td>\n",
       "      <td>male</td>\n",
       "      <td>72.0</td>\n",
       "      <td>natural</td>\n",
       "      <td>coloured</td>\n",
       "      <td>urban</td>\n",
       "      <td>Western Cape</td>\n",
       "      <td>West Coast</td>\n",
       "      <td>Matzikama</td>\n",
       "      <td>11.653297</td>\n",
       "      <td>2011-05</td>\n",
       "    </tr>\n",
       "    <tr>\n",
       "      <th>11917226239</th>\n",
       "      <td>9</td>\n",
       "      <td>2011</td>\n",
       "      <td>male</td>\n",
       "      <td>73.0</td>\n",
       "      <td>natural</td>\n",
       "      <td>coloured</td>\n",
       "      <td>urban</td>\n",
       "      <td>Western Cape</td>\n",
       "      <td>West Coast</td>\n",
       "      <td>Matzikama</td>\n",
       "      <td>11.653297</td>\n",
       "      <td>2011-09</td>\n",
       "    </tr>\n",
       "  </tbody>\n",
       "</table>\n",
       "</div>"
      ],
      "text/plain": [
       "             month  year     sex   age    cause pop_group geotype  \\\n",
       "SN                                                                  \n",
       "11809257867      3  2011  female   0.0  natural  coloured   farms   \n",
       "11916034982     10  2011    male  25.0      NaN     black   urban   \n",
       "10104528209      8  2011    male  85.0  natural  coloured   urban   \n",
       "10104521225      5  2011    male  72.0  natural  coloured   urban   \n",
       "11917226239      9  2011    male  73.0  natural  coloured   urban   \n",
       "\n",
       "                 province    district      munic  sample_weight     date  \n",
       "SN                                                                        \n",
       "11809257867  Western Cape  West Coast  Matzikama      28.748530  2011-03  \n",
       "11916034982  Western Cape  West Coast  Matzikama      11.461345  2011-10  \n",
       "10104528209  Western Cape  West Coast  Matzikama      10.559567  2011-08  \n",
       "10104521225  Western Cape  West Coast  Matzikama      11.653297  2011-05  \n",
       "11917226239  Western Cape  West Coast  Matzikama      11.653297  2011-09  "
      ]
     },
     "execution_count": 56,
     "metadata": {},
     "output_type": "execute_result"
    }
   ],
   "source": [
    "clean_df.head()"
   ]
  },
  {
   "cell_type": "markdown",
   "metadata": {},
   "source": [
    "## Exploratory Analyses"
   ]
  },
  {
   "cell_type": "markdown",
   "metadata": {},
   "source": [
    "**Accuracy** \n",
    "- Due to the stringent collection process detailed above, all data contained has been gathered          appropriately and is approved by Statistics South Africa, the leading statistics gathering instituition in the country.\n",
    "\n",
    "- For **pop_group**, the majority of observations are black, which tracks with populations demographics in South Africa.\n",
    "- For **date**, the variable contain only last 3 months for 2010 and 10 months for 2011. "
   ]
  },
  {
   "cell_type": "markdown",
   "metadata": {},
   "source": [
    "Since we are determing the relationship between variables ,both *categorical* and *non categorical* variables , we chose the following functions for visualization :\n",
    "- Series\n",
    "- Heatmap\n",
    "- Catplot\n",
    "- Crosstab/Contingency table"
   ]
  },
  {
   "cell_type": "code",
   "execution_count": 57,
   "metadata": {},
   "outputs": [],
   "source": [
    "infile = open('data/2011_census_mortality_clean.pkl','rb')\n",
    "df = pickle.load(infile)\n",
    "infile.close()"
   ]
  },
  {
   "cell_type": "code",
   "execution_count": 58,
   "metadata": {},
   "outputs": [
    {
     "data": {
      "text/html": [
       "<div>\n",
       "<style scoped>\n",
       "    .dataframe tbody tr th:only-of-type {\n",
       "        vertical-align: middle;\n",
       "    }\n",
       "\n",
       "    .dataframe tbody tr th {\n",
       "        vertical-align: top;\n",
       "    }\n",
       "\n",
       "    .dataframe thead th {\n",
       "        text-align: right;\n",
       "    }\n",
       "</style>\n",
       "<table border=\"1\" class=\"dataframe\">\n",
       "  <thead>\n",
       "    <tr style=\"text-align: right;\">\n",
       "      <th></th>\n",
       "      <th>month</th>\n",
       "      <th>year</th>\n",
       "      <th>sex</th>\n",
       "      <th>age</th>\n",
       "      <th>cause</th>\n",
       "      <th>pop_group</th>\n",
       "      <th>geotype</th>\n",
       "      <th>province</th>\n",
       "      <th>district</th>\n",
       "      <th>munic</th>\n",
       "      <th>date</th>\n",
       "    </tr>\n",
       "    <tr>\n",
       "      <th>SN</th>\n",
       "      <th></th>\n",
       "      <th></th>\n",
       "      <th></th>\n",
       "      <th></th>\n",
       "      <th></th>\n",
       "      <th></th>\n",
       "      <th></th>\n",
       "      <th></th>\n",
       "      <th></th>\n",
       "      <th></th>\n",
       "      <th></th>\n",
       "    </tr>\n",
       "  </thead>\n",
       "  <tbody>\n",
       "    <tr>\n",
       "      <th>11809257867</th>\n",
       "      <td>3</td>\n",
       "      <td>2011</td>\n",
       "      <td>female</td>\n",
       "      <td>0.0</td>\n",
       "      <td>natural</td>\n",
       "      <td>coloured</td>\n",
       "      <td>farms</td>\n",
       "      <td>Western Cape</td>\n",
       "      <td>West Coast</td>\n",
       "      <td>Matzikama</td>\n",
       "      <td>2011-03</td>\n",
       "    </tr>\n",
       "    <tr>\n",
       "      <th>11916034982</th>\n",
       "      <td>10</td>\n",
       "      <td>2011</td>\n",
       "      <td>male</td>\n",
       "      <td>25.0</td>\n",
       "      <td>NaN</td>\n",
       "      <td>black</td>\n",
       "      <td>urban</td>\n",
       "      <td>Western Cape</td>\n",
       "      <td>West Coast</td>\n",
       "      <td>Matzikama</td>\n",
       "      <td>2011-10</td>\n",
       "    </tr>\n",
       "    <tr>\n",
       "      <th>10104528209</th>\n",
       "      <td>8</td>\n",
       "      <td>2011</td>\n",
       "      <td>male</td>\n",
       "      <td>85.0</td>\n",
       "      <td>natural</td>\n",
       "      <td>coloured</td>\n",
       "      <td>urban</td>\n",
       "      <td>Western Cape</td>\n",
       "      <td>West Coast</td>\n",
       "      <td>Matzikama</td>\n",
       "      <td>2011-08</td>\n",
       "    </tr>\n",
       "    <tr>\n",
       "      <th>10104521225</th>\n",
       "      <td>5</td>\n",
       "      <td>2011</td>\n",
       "      <td>male</td>\n",
       "      <td>72.0</td>\n",
       "      <td>natural</td>\n",
       "      <td>coloured</td>\n",
       "      <td>urban</td>\n",
       "      <td>Western Cape</td>\n",
       "      <td>West Coast</td>\n",
       "      <td>Matzikama</td>\n",
       "      <td>2011-05</td>\n",
       "    </tr>\n",
       "    <tr>\n",
       "      <th>11917226239</th>\n",
       "      <td>9</td>\n",
       "      <td>2011</td>\n",
       "      <td>male</td>\n",
       "      <td>73.0</td>\n",
       "      <td>natural</td>\n",
       "      <td>coloured</td>\n",
       "      <td>urban</td>\n",
       "      <td>Western Cape</td>\n",
       "      <td>West Coast</td>\n",
       "      <td>Matzikama</td>\n",
       "      <td>2011-09</td>\n",
       "    </tr>\n",
       "  </tbody>\n",
       "</table>\n",
       "</div>"
      ],
      "text/plain": [
       "             month  year     sex   age    cause pop_group geotype  \\\n",
       "SN                                                                  \n",
       "11809257867      3  2011  female   0.0  natural  coloured   farms   \n",
       "11916034982     10  2011    male  25.0      NaN     black   urban   \n",
       "10104528209      8  2011    male  85.0  natural  coloured   urban   \n",
       "10104521225      5  2011    male  72.0  natural  coloured   urban   \n",
       "11917226239      9  2011    male  73.0  natural  coloured   urban   \n",
       "\n",
       "                 province    district      munic     date  \n",
       "SN                                                         \n",
       "11809257867  Western Cape  West Coast  Matzikama  2011-03  \n",
       "11916034982  Western Cape  West Coast  Matzikama  2011-10  \n",
       "10104528209  Western Cape  West Coast  Matzikama  2011-08  \n",
       "10104521225  Western Cape  West Coast  Matzikama  2011-05  \n",
       "11917226239  Western Cape  West Coast  Matzikama  2011-09  "
      ]
     },
     "execution_count": 58,
     "metadata": {},
     "output_type": "execute_result"
    }
   ],
   "source": [
    "df.head()"
   ]
  },
  {
   "cell_type": "markdown",
   "metadata": {},
   "source": [
    "### *Question: Is there a relationship between month of death to age, gender or race?*"
   ]
  },
  {
   "cell_type": "code",
   "execution_count": 59,
   "metadata": {},
   "outputs": [],
   "source": [
    "new_df = df[['month','sex', 'age','pop_group']]\n",
    "new_df = new_df.dropna()"
   ]
  },
  {
   "cell_type": "markdown",
   "metadata": {},
   "source": [
    "#### Series of correlations"
   ]
  },
  {
   "cell_type": "code",
   "execution_count": 60,
   "metadata": {},
   "outputs": [
    {
     "name": "stdout",
     "output_type": "stream",
     "text": [
      "month        1.000000\n",
      "sex          0.008844\n",
      "age         -0.000004\n",
      "pop_group   -0.025670\n",
      "Name: month, dtype: float64\n"
     ]
    }
   ],
   "source": [
    "new_df['sex'] =new_df['sex'].astype('category').cat.codes\n",
    "new_df['pop_group'] = new_df['pop_group'].astype('category').cat.codes\n",
    "#new_df['cause'] = new_df['cause'].astype('category').cat.codes\n",
    "\n",
    "# Shows the correlation between the featues to 'month'\n",
    "print(new_df[new_df.columns[0:]].corr()['month'][:])"
   ]
  },
  {
   "cell_type": "markdown",
   "metadata": {},
   "source": [
    "#### Heatmap"
   ]
  },
  {
   "cell_type": "code",
   "execution_count": 61,
   "metadata": {},
   "outputs": [
    {
     "data": {
      "text/plain": [
       "<AxesSubplot:>"
      ]
     },
     "execution_count": 61,
     "metadata": {},
     "output_type": "execute_result"
    },
    {
     "data": {
      "image/png": "[encoded data removed]",
      "text/plain": [
       "<Figure size 864x576 with 2 Axes>"
      ]
     },
     "metadata": {},
     "output_type": "display_data"
    }
   ],
   "source": [
    "corr = new_df.corr()\n",
    "fig, ax = plt.subplots(figsize=(12,8))\n",
    "sns.heatmap(corr, vmin=-1, vmax=1, center=0, cmap=sns.diverging_palette(20, 220, n=200), square=True, ax=ax)"
   ]
  },
  {
   "cell_type": "markdown",
   "metadata": {},
   "source": [
    "The series of correlations together with the heatmap displays low correlation values between the selected featues ('sex','age','pop_group') and the month of death."
   ]
  },
  {
   "cell_type": "markdown",
   "metadata": {},
   "source": [
    "### *Question 2 : Does the geographical type of people influence the type of death? For example, do people in different provinces suffer from natural deaths more frequently?*"
   ]
  },
  {
   "cell_type": "markdown",
   "metadata": {},
   "source": [
    "#### Province & cause"
   ]
  },
  {
   "cell_type": "code",
   "execution_count": 62,
   "metadata": {},
   "outputs": [
    {
     "data": {
      "text/html": [
       "<div>\n",
       "<style scoped>\n",
       "    .dataframe tbody tr th:only-of-type {\n",
       "        vertical-align: middle;\n",
       "    }\n",
       "\n",
       "    .dataframe tbody tr th {\n",
       "        vertical-align: top;\n",
       "    }\n",
       "\n",
       "    .dataframe thead th {\n",
       "        text-align: right;\n",
       "    }\n",
       "</style>\n",
       "<table border=\"1\" class=\"dataframe\">\n",
       "  <thead>\n",
       "    <tr style=\"text-align: right;\">\n",
       "      <th>cause</th>\n",
       "      <th>natural</th>\n",
       "      <th>unknown</th>\n",
       "      <th>unnatural</th>\n",
       "      <th>All</th>\n",
       "    </tr>\n",
       "    <tr>\n",
       "      <th>province</th>\n",
       "      <th></th>\n",
       "      <th></th>\n",
       "      <th></th>\n",
       "      <th></th>\n",
       "    </tr>\n",
       "  </thead>\n",
       "  <tbody>\n",
       "    <tr>\n",
       "      <th>Eastern Cape</th>\n",
       "      <td>5823</td>\n",
       "      <td>103</td>\n",
       "      <td>985</td>\n",
       "      <td>6911</td>\n",
       "    </tr>\n",
       "    <tr>\n",
       "      <th>Free State</th>\n",
       "      <td>2719</td>\n",
       "      <td>69</td>\n",
       "      <td>269</td>\n",
       "      <td>3057</td>\n",
       "    </tr>\n",
       "    <tr>\n",
       "      <th>Gauteng</th>\n",
       "      <td>5773</td>\n",
       "      <td>173</td>\n",
       "      <td>774</td>\n",
       "      <td>6720</td>\n",
       "    </tr>\n",
       "    <tr>\n",
       "      <th>Kwazulu-Natal</th>\n",
       "      <td>7912</td>\n",
       "      <td>186</td>\n",
       "      <td>1081</td>\n",
       "      <td>9179</td>\n",
       "    </tr>\n",
       "    <tr>\n",
       "      <th>Limpopo</th>\n",
       "      <td>3113</td>\n",
       "      <td>105</td>\n",
       "      <td>424</td>\n",
       "      <td>3642</td>\n",
       "    </tr>\n",
       "    <tr>\n",
       "      <th>Mpumalanga</th>\n",
       "      <td>2755</td>\n",
       "      <td>83</td>\n",
       "      <td>391</td>\n",
       "      <td>3229</td>\n",
       "    </tr>\n",
       "    <tr>\n",
       "      <th>North West</th>\n",
       "      <td>2692</td>\n",
       "      <td>60</td>\n",
       "      <td>328</td>\n",
       "      <td>3080</td>\n",
       "    </tr>\n",
       "    <tr>\n",
       "      <th>Northern Cape</th>\n",
       "      <td>891</td>\n",
       "      <td>15</td>\n",
       "      <td>111</td>\n",
       "      <td>1017</td>\n",
       "    </tr>\n",
       "    <tr>\n",
       "      <th>Western Cape</th>\n",
       "      <td>2323</td>\n",
       "      <td>49</td>\n",
       "      <td>359</td>\n",
       "      <td>2731</td>\n",
       "    </tr>\n",
       "    <tr>\n",
       "      <th>All</th>\n",
       "      <td>34001</td>\n",
       "      <td>843</td>\n",
       "      <td>4722</td>\n",
       "      <td>39566</td>\n",
       "    </tr>\n",
       "  </tbody>\n",
       "</table>\n",
       "</div>"
      ],
      "text/plain": [
       "cause          natural  unknown  unnatural    All\n",
       "province                                         \n",
       "Eastern Cape      5823      103        985   6911\n",
       "Free State        2719       69        269   3057\n",
       "Gauteng           5773      173        774   6720\n",
       "Kwazulu-Natal     7912      186       1081   9179\n",
       "Limpopo           3113      105        424   3642\n",
       "Mpumalanga        2755       83        391   3229\n",
       "North West        2692       60        328   3080\n",
       "Northern Cape      891       15        111   1017\n",
       "Western Cape      2323       49        359   2731\n",
       "All              34001      843       4722  39566"
      ]
     },
     "execution_count": 62,
     "metadata": {},
     "output_type": "execute_result"
    }
   ],
   "source": [
    "contigency = pd.crosstab(df['province'], df['cause'],margins = True)\n",
    "contigency"
   ]
  },
  {
   "cell_type": "code",
   "execution_count": 63,
   "metadata": {},
   "outputs": [],
   "source": [
    "# Normalized for better visualization and understanding\n",
    "contigency_norm = pd.crosstab(df['province'], df['cause'], normalize='index',margins = True)"
   ]
  },
  {
   "cell_type": "markdown",
   "metadata": {},
   "source": [
    "The following graph shows the number of deaths due to a cause for a group of ages."
   ]
  },
  {
   "cell_type": "code",
   "execution_count": 64,
   "metadata": {},
   "outputs": [
    {
     "data": {
      "text/plain": [
       "<AxesSubplot:xlabel='cause', ylabel='province'>"
      ]
     },
     "execution_count": 64,
     "metadata": {},
     "output_type": "execute_result"
    },
    {
     "data": {
      "image/png": "[encoded data removed]",
      "text/plain": [
       "<Figure size 864x576 with 2 Axes>"
      ]
     },
     "metadata": {},
     "output_type": "display_data"
    }
   ],
   "source": [
    "plt.figure(figsize=(12,8))\n",
    "sns.heatmap(contigency_norm, annot=True, cmap=\"YlGnBu\")"
   ]
  },
  {
   "cell_type": "markdown",
   "metadata": {},
   "source": [
    "#### Geotype & Cause"
   ]
  },
  {
   "cell_type": "code",
   "execution_count": 65,
   "metadata": {},
   "outputs": [
    {
     "data": {
      "image/png": "[encoded data removed]",
      "text/plain": [
       "<Figure size 921.6x288 with 3 Axes>"
      ]
     },
     "metadata": {},
     "output_type": "display_data"
    }
   ],
   "source": [
    "g1 = sns.catplot(x=\"geotype\", col=\"cause\", col_wrap=4,\n",
    "                data=df,\n",
    "                kind=\"count\", height=4, aspect=.8)"
   ]
  },
  {
   "cell_type": "markdown",
   "metadata": {},
   "source": [
    "From the contingency table, it is clear that natual cause of death is the common cause of death with Kwazulu-Natal having the highest number of deaths. The unknown and natural columns of the heatmap has low values which clearly shows that these cases are less frequent compared to natural cases."
   ]
  },
  {
   "cell_type": "markdown",
   "metadata": {},
   "source": [
    "### *Question 3 : Do demographic features population group(race) and sex influence cause of death?*"
   ]
  },
  {
   "cell_type": "markdown",
   "metadata": {},
   "source": [
    "**Pop_group & cause of death**"
   ]
  },
  {
   "cell_type": "code",
   "execution_count": 66,
   "metadata": {},
   "outputs": [
    {
     "name": "stdout",
     "output_type": "stream",
     "text": [
      "cause         natural  unknown  unnatural\n",
      "pop_group                                \n",
      "black           29490      769       4168\n",
      "coloured         2257       42        292\n",
      "indian/asian      522        4         61\n",
      "other              29        1          5\n",
      "white            1694       25        194\n"
     ]
    },
    {
     "data": {
      "text/plain": [
       "<AxesSubplot:xlabel='pop_group'>"
      ]
     },
     "execution_count": 66,
     "metadata": {},
     "output_type": "execute_result"
    },
    {
     "data": {
      "image/png": "[encoded data removed]",
      "text/plain": [
       "<Figure size 504x288 with 1 Axes>"
      ]
     },
     "metadata": {},
     "output_type": "display_data"
    }
   ],
   "source": [
    "CrosstabResult=pd.crosstab(index=df['pop_group'],columns=df['cause'])\n",
    "print(CrosstabResult)\n",
    " \n",
    "# Grouped bar chart between pop_group and cause\n",
    "CrosstabResult.plot.bar(figsize=(7,4), rot=0)"
   ]
  },
  {
   "cell_type": "markdown",
   "metadata": {},
   "source": [
    "**Sex & cause of death**"
   ]
  },
  {
   "cell_type": "code",
   "execution_count": 67,
   "metadata": {},
   "outputs": [
    {
     "name": "stdout",
     "output_type": "stream",
     "text": [
      "cause   natural  unknown  unnatural\n",
      "sex                                \n",
      "female    17101      411       1420\n",
      "male      16788      425       3293\n"
     ]
    },
    {
     "data": {
      "text/plain": [
       "<AxesSubplot:xlabel='sex'>"
      ]
     },
     "execution_count": 67,
     "metadata": {},
     "output_type": "execute_result"
    },
    {
     "data": {
      "image/png": "[encoded data removed]",
      "text/plain": [
       "<Figure size 504x288 with 1 Axes>"
      ]
     },
     "metadata": {},
     "output_type": "display_data"
    }
   ],
   "source": [
    "CrosstabResult=pd.crosstab(index=df['sex'],columns=df['cause'])\n",
    "print(CrosstabResult)\n",
    " \n",
    "# Grouped bar chart between sex and cause\n",
    "CrosstabResult.plot.bar(figsize=(7,4), rot=0)"
   ]
  },
  {
   "cell_type": "markdown",
   "metadata": {},
   "source": [
    "From both grouped bar charts above, it is clear that the most common cause of death among the different pop_groups and genders is natural cause with unknown being least case for the cause of death."
   ]
  },
  {
   "cell_type": "markdown",
   "metadata": {},
   "source": [
    "## Model Fitting"
   ]
  },
  {
   "cell_type": "code",
   "execution_count": 68,
   "metadata": {},
   "outputs": [],
   "source": [
    "from sklearn.linear_model import LinearRegression\n",
    "from sklearn.model_selection import train_test_split\n",
    "from sklearn.preprocessing import OneHotEncoder\n",
    "import statsmodels.api as sm\n",
    "from sklearn.metrics import classification_report"
   ]
  },
  {
   "cell_type": "markdown",
   "metadata": {},
   "source": [
    "## Question 1\n",
    " Is there a relationship between age, month of death, gender and race?"
   ]
  },
  {
   "cell_type": "markdown",
   "metadata": {},
   "source": [
    "The Model that we have chosen to implement for this question is a multiple linear regression model. It has been implemented via the Scikit Learn [LinearRegression](https://scikit-learn.org/stable/modules/generated/sklearn.linear_model.LinearRegression.html) class.\n",
    "\n",
    "The features required for this model are:\n",
    " - `month or month of death` (categorical)\n",
    " - `sex` (categorical)\n",
    " - `age` (numerical)\n",
    " - `pop_group` (categorical)\n",
    " \n",
    "- `month of death` is being predicted.\n",
    "The outcome is a number from 1-12 depicting the month of the year"
   ]
  },
  {
   "cell_type": "markdown",
   "metadata": {},
   "source": [
    "### Data preparation so data can be fed into model"
   ]
  },
  {
   "cell_type": "code",
   "execution_count": 69,
   "metadata": {},
   "outputs": [],
   "source": [
    "infile = open('data/2011_census_mortality_clean.pkl','rb')\n",
    "df = pickle.load(infile)\n",
    "infile.close()\n",
    "\n",
    "new_df = df[['month','sex', 'age','pop_group']]\n",
    "new_df = new_df.dropna()\n",
    "\n",
    "X = new_df[['age','sex','pop_group']]\n",
    "y = new_df[['month']].values\n",
    "\n",
    "#One hot encoder\n",
    "\n",
    "enc = OneHotEncoder(handle_unknown='ignore')\n",
    "X_enc = X.drop('age', axis=1)\n",
    "enc.fit(X_enc)\n",
    "\n",
    "# X_arr is a numpy array\n",
    "X_arr = enc.transform(X_enc).toarray()\n",
    "# add month back\n",
    "X_arr = np.append(X_arr, X[['age']].to_numpy(), axis=1).astype('float')\n"
   ]
  },
  {
   "cell_type": "markdown",
   "metadata": {},
   "source": [
    "### Train-Test Split\n",
    "Split data randomly."
   ]
  },
  {
   "cell_type": "code",
   "execution_count": 70,
   "metadata": {},
   "outputs": [],
   "source": [
    "X_train_orig, X_test, y_train_orig, y_test = train_test_split(X_arr, y, test_size=0.3)\n",
    "X_train, X_valid, y_train, y_valid = train_test_split(X_train_orig, y_train_orig, test_size=0.3)"
   ]
  },
  {
   "cell_type": "markdown",
   "metadata": {},
   "source": [
    "Fit model to data"
   ]
  },
  {
   "cell_type": "code",
   "execution_count": 71,
   "metadata": {},
   "outputs": [],
   "source": [
    "#fit data\n",
    "from sklearn.linear_model import LinearRegression\n",
    "\n",
    "linR = LinearRegression().fit(X_train, y_train)"
   ]
  },
  {
   "cell_type": "markdown",
   "metadata": {},
   "source": [
    "Evaluate using validation data"
   ]
  },
  {
   "cell_type": "code",
   "execution_count": 72,
   "metadata": {},
   "outputs": [
    {
     "data": {
      "text/plain": [
       "array([[7.03199775],\n",
       "       [7.03964377],\n",
       "       [6.92897937],\n",
       "       ...,\n",
       "       [6.93749202],\n",
       "       [6.79915859],\n",
       "       [7.02986959]])"
      ]
     },
     "execution_count": 72,
     "metadata": {},
     "output_type": "execute_result"
    }
   ],
   "source": [
    "y_valid_pred = linR.predict(X_valid)\n",
    "y_valid_pred"
   ]
  },
  {
   "cell_type": "markdown",
   "metadata": {},
   "source": [
    "Perform final evaluation using test data"
   ]
  },
  {
   "cell_type": "code",
   "execution_count": 73,
   "metadata": {},
   "outputs": [
    {
     "data": {
      "text/plain": [
       "array([[7.01071614],\n",
       "       [6.95325578],\n",
       "       [7.04815642],\n",
       "       ...,\n",
       "       [6.95325578],\n",
       "       [6.95664547],\n",
       "       [6.99794717]])"
      ]
     },
     "metadata": {},
     "output_type": "display_data"
    },
    {
     "data": {
      "text/plain": [
       "array([[ 6],\n",
       "       [12],\n",
       "       [11],\n",
       "       ...,\n",
       "       [ 3],\n",
       "       [ 9],\n",
       "       [10]], dtype=int64)"
      ]
     },
     "metadata": {},
     "output_type": "display_data"
    }
   ],
   "source": [
    "scr = linR.score(X_train, y_train)\n",
    "\n",
    "y_pred_q1 = linR.predict(X_test)\n",
    "y_test_q1 = y_test\n",
    "\n",
    "\n",
    "display(y_pred_q1)\n",
    "\n",
    "display(y_test)"
   ]
  },
  {
   "cell_type": "markdown",
   "metadata": {},
   "source": [
    "## Question 2\n",
    "Does the geographical type of people influence the type of death? For example, do people in Rural or Urban areas suffer from natural deaths more frequently?\n",
    "\n",
    "The model being used to answer this question is **multiclass logistic regression** via Scikit Learn's [LogisticRegression](https://scikit-learn.org/stable/modules/generated/sklearn.linear_model.LogisticRegression.html) class. \n",
    "\n",
    "The features required for this model are:\n",
    " - `geotype` (categorical)\n",
    " - `province` (categorical)\n",
    " \n",
    "`cause` is being predicted.\n",
    "- `cause` has three possible values:\n",
    "    - `natural`\n",
    "    - `unnatural`\n",
    "    - `unkown`"
   ]
  },
  {
   "cell_type": "code",
   "execution_count": 74,
   "metadata": {},
   "outputs": [
    {
     "data": {
      "text/html": [
       "<div>\n",
       "<style scoped>\n",
       "    .dataframe tbody tr th:only-of-type {\n",
       "        vertical-align: middle;\n",
       "    }\n",
       "\n",
       "    .dataframe tbody tr th {\n",
       "        vertical-align: top;\n",
       "    }\n",
       "\n",
       "    .dataframe thead th {\n",
       "        text-align: right;\n",
       "    }\n",
       "</style>\n",
       "<table border=\"1\" class=\"dataframe\">\n",
       "  <thead>\n",
       "    <tr style=\"text-align: right;\">\n",
       "      <th></th>\n",
       "      <th>geotype</th>\n",
       "      <th>province</th>\n",
       "      <th>cause</th>\n",
       "    </tr>\n",
       "    <tr>\n",
       "      <th>SN</th>\n",
       "      <th></th>\n",
       "      <th></th>\n",
       "      <th></th>\n",
       "    </tr>\n",
       "  </thead>\n",
       "  <tbody>\n",
       "    <tr>\n",
       "      <th>11809257867</th>\n",
       "      <td>farms</td>\n",
       "      <td>Western Cape</td>\n",
       "      <td>natural</td>\n",
       "    </tr>\n",
       "    <tr>\n",
       "      <th>10104528209</th>\n",
       "      <td>urban</td>\n",
       "      <td>Western Cape</td>\n",
       "      <td>natural</td>\n",
       "    </tr>\n",
       "    <tr>\n",
       "      <th>10104521225</th>\n",
       "      <td>urban</td>\n",
       "      <td>Western Cape</td>\n",
       "      <td>natural</td>\n",
       "    </tr>\n",
       "    <tr>\n",
       "      <th>11917226239</th>\n",
       "      <td>urban</td>\n",
       "      <td>Western Cape</td>\n",
       "      <td>natural</td>\n",
       "    </tr>\n",
       "    <tr>\n",
       "      <th>11916914190</th>\n",
       "      <td>urban</td>\n",
       "      <td>Western Cape</td>\n",
       "      <td>natural</td>\n",
       "    </tr>\n",
       "  </tbody>\n",
       "</table>\n",
       "</div>"
      ],
      "text/plain": [
       "            geotype      province    cause\n",
       "SN                                        \n",
       "11809257867   farms  Western Cape  natural\n",
       "10104528209   urban  Western Cape  natural\n",
       "10104521225   urban  Western Cape  natural\n",
       "11917226239   urban  Western Cape  natural\n",
       "11916914190   urban  Western Cape  natural"
      ]
     },
     "execution_count": 74,
     "metadata": {},
     "output_type": "execute_result"
    }
   ],
   "source": [
    "q2_df = clean_df[['geotype','province','cause']].copy()\n",
    "q2_df.dropna(inplace=True) # Cannot predict without data\n",
    "q2_df.head()"
   ]
  },
  {
   "cell_type": "code",
   "execution_count": 75,
   "metadata": {},
   "outputs": [
    {
     "data": {
      "text/plain": [
       "natural      34001\n",
       "unnatural     4722\n",
       "unknown        843\n",
       "Name: cause, dtype: int64"
      ]
     },
     "execution_count": 75,
     "metadata": {},
     "output_type": "execute_result"
    }
   ],
   "source": [
    "q2_df['cause'].value_counts()"
   ]
  },
  {
   "cell_type": "code",
   "execution_count": 76,
   "metadata": {},
   "outputs": [],
   "source": [
    "X = q2_df.drop(['cause'], axis=1)\n",
    "y = q2_df['cause']"
   ]
  },
  {
   "cell_type": "markdown",
   "metadata": {},
   "source": [
    "### Data preparation so data can be fed into model"
   ]
  },
  {
   "cell_type": "markdown",
   "metadata": {},
   "source": [
    "One hot encode categorical values"
   ]
  },
  {
   "cell_type": "code",
   "execution_count": 77,
   "metadata": {},
   "outputs": [
    {
     "data": {
      "text/plain": [
       "(39566, 12)"
      ]
     },
     "execution_count": 77,
     "metadata": {},
     "output_type": "execute_result"
    }
   ],
   "source": [
    "enc = OneHotEncoder(handle_unknown='ignore')\n",
    "enc.fit(X)\n",
    "\n",
    "# X_arr is a numpy array\n",
    "X_arr = enc.transform(X).toarray()\n",
    "X_arr.shape"
   ]
  },
  {
   "cell_type": "markdown",
   "metadata": {},
   "source": [
    "Train-Validation Split"
   ]
  },
  {
   "cell_type": "code",
   "execution_count": 78,
   "metadata": {},
   "outputs": [],
   "source": [
    "X_train_orig, X_test, y_train_orig, y_test = train_test_split(X_arr, y, test_size=0.3)\n",
    "X_train, X_valid, y_train, y_valid = train_test_split(X_train_orig, y_train_orig, test_size=0.3)"
   ]
  },
  {
   "cell_type": "markdown",
   "metadata": {},
   "source": [
    "Fit model to data"
   ]
  },
  {
   "cell_type": "code",
   "execution_count": 79,
   "metadata": {},
   "outputs": [],
   "source": [
    "from sklearn.linear_model import LogisticRegression\n",
    "import sklearn\n",
    "\n",
    "log_reg = LogisticRegression().fit(X_train, y_train)"
   ]
  },
  {
   "cell_type": "markdown",
   "metadata": {},
   "source": [
    "Evaluate using validation data"
   ]
  },
  {
   "cell_type": "code",
   "execution_count": 80,
   "metadata": {},
   "outputs": [
    {
     "data": {
      "text/plain": [
       "array(['natural', 'natural', 'natural', ..., 'natural', 'natural',\n",
       "       'natural'], dtype=object)"
      ]
     },
     "execution_count": 80,
     "metadata": {},
     "output_type": "execute_result"
    }
   ],
   "source": [
    "y_valid_pred = log_reg.predict(X_valid)\n",
    "y_valid_pred"
   ]
  },
  {
   "cell_type": "code",
   "execution_count": 81,
   "metadata": {},
   "outputs": [
    {
     "name": "stdout",
     "output_type": "stream",
     "text": [
      "              precision    recall  f1-score   support\n",
      "\n",
      "     natural       0.86      1.00      0.92      7129\n",
      "     unknown       0.00      0.00      0.00       176\n",
      "   unnatural       0.00      0.00      0.00      1004\n",
      "\n",
      "    accuracy                           0.86      8309\n",
      "   macro avg       0.29      0.33      0.31      8309\n",
      "weighted avg       0.74      0.86      0.79      8309\n",
      "\n"
     ]
    }
   ],
   "source": [
    "print(classification_report(y_valid, y_valid_pred))"
   ]
  },
  {
   "cell_type": "markdown",
   "metadata": {},
   "source": [
    "Perform grid search to find better hyperparameters."
   ]
  },
  {
   "cell_type": "code",
   "execution_count": 82,
   "metadata": {},
   "outputs": [
    {
     "name": "stdout",
     "output_type": "stream",
     "text": [
      "Fitting 5 folds for each of 24 candidates, totalling 120 fits\n",
      "[CV] END ................................C=0.001, solver=sag; total time=   0.0s\n",
      "[CV] END ................................C=0.001, solver=sag; total time=   0.1s\n",
      "[CV] END ................................C=0.001, solver=sag; total time=   0.0s\n",
      "[CV] END ................................C=0.001, solver=sag; total time=   0.1s\n",
      "[CV] END ................................C=0.001, solver=sag; total time=   0.1s\n",
      "[CV] END ...............................C=0.001, solver=saga; total time=   0.1s\n",
      "[CV] END ...............................C=0.001, solver=saga; total time=   0.2s\n",
      "[CV] END ...............................C=0.001, solver=saga; total time=   0.1s\n",
      "[CV] END ...............................C=0.001, solver=saga; total time=   0.1s\n",
      "[CV] END ...............................C=0.001, solver=saga; total time=   0.1s\n",
      "[CV] END ..............................C=0.001, solver=lbfgs; total time=   0.0s\n",
      "[CV] END ..............................C=0.001, solver=lbfgs; total time=   0.1s\n",
      "[CV] END ..............................C=0.001, solver=lbfgs; total time=   0.0s\n",
      "[CV] END ..............................C=0.001, solver=lbfgs; total time=   0.1s\n",
      "[CV] END ..............................C=0.001, solver=lbfgs; total time=   0.1s\n",
      "[CV] END ................................C=0.009, solver=sag; total time=   0.1s\n",
      "[CV] END ................................C=0.009, solver=sag; total time=   0.1s\n",
      "[CV] END ................................C=0.009, solver=sag; total time=   0.1s\n",
      "[CV] END ................................C=0.009, solver=sag; total time=   0.1s\n",
      "[CV] END ................................C=0.009, solver=sag; total time=   0.1s\n",
      "[CV] END ...............................C=0.009, solver=saga; total time=   0.2s\n",
      "[CV] END ...............................C=0.009, solver=saga; total time=   0.2s\n",
      "[CV] END ...............................C=0.009, solver=saga; total time=   0.2s\n",
      "[CV] END ...............................C=0.009, solver=saga; total time=   0.2s\n",
      "[CV] END ...............................C=0.009, solver=saga; total time=   0.2s\n",
      "[CV] END ..............................C=0.009, solver=lbfgs; total time=   0.1s\n",
      "[CV] END ..............................C=0.009, solver=lbfgs; total time=   0.1s\n",
      "[CV] END ..............................C=0.009, solver=lbfgs; total time=   0.1s\n",
      "[CV] END ..............................C=0.009, solver=lbfgs; total time=   0.1s\n",
      "[CV] END ..............................C=0.009, solver=lbfgs; total time=   0.1s\n",
      "[CV] END .................................C=0.01, solver=sag; total time=   0.1s\n",
      "[CV] END .................................C=0.01, solver=sag; total time=   0.1s\n",
      "[CV] END .................................C=0.01, solver=sag; total time=   0.1s\n",
      "[CV] END .................................C=0.01, solver=sag; total time=   0.1s\n",
      "[CV] END .................................C=0.01, solver=sag; total time=   0.1s\n",
      "[CV] END ................................C=0.01, solver=saga; total time=   0.2s\n",
      "[CV] END ................................C=0.01, solver=saga; total time=   0.2s\n",
      "[CV] END ................................C=0.01, solver=saga; total time=   0.2s\n",
      "[CV] END ................................C=0.01, solver=saga; total time=   0.2s\n",
      "[CV] END ................................C=0.01, solver=saga; total time=   0.2s\n",
      "[CV] END ...............................C=0.01, solver=lbfgs; total time=   0.1s\n",
      "[CV] END ...............................C=0.01, solver=lbfgs; total time=   0.2s\n",
      "[CV] END ...............................C=0.01, solver=lbfgs; total time=   0.1s\n",
      "[CV] END ...............................C=0.01, solver=lbfgs; total time=   0.1s\n",
      "[CV] END ...............................C=0.01, solver=lbfgs; total time=   0.1s\n",
      "[CV] END .................................C=0.09, solver=sag; total time=   0.1s\n",
      "[CV] END .................................C=0.09, solver=sag; total time=   0.1s\n",
      "[CV] END .................................C=0.09, solver=sag; total time=   0.1s\n",
      "[CV] END .................................C=0.09, solver=sag; total time=   0.1s\n",
      "[CV] END .................................C=0.09, solver=sag; total time=   0.1s\n",
      "[CV] END ................................C=0.09, solver=saga; total time=   0.2s\n",
      "[CV] END ................................C=0.09, solver=saga; total time=   0.2s\n",
      "[CV] END ................................C=0.09, solver=saga; total time=   0.2s\n",
      "[CV] END ................................C=0.09, solver=saga; total time=   0.2s\n",
      "[CV] END ................................C=0.09, solver=saga; total time=   0.2s\n",
      "[CV] END ...............................C=0.09, solver=lbfgs; total time=   0.2s\n",
      "[CV] END ...............................C=0.09, solver=lbfgs; total time=   0.2s\n",
      "[CV] END ...............................C=0.09, solver=lbfgs; total time=   0.2s\n",
      "[CV] END ...............................C=0.09, solver=lbfgs; total time=   0.2s\n",
      "[CV] END ...............................C=0.09, solver=lbfgs; total time=   0.2s\n",
      "[CV] END ....................................C=1, solver=sag; total time=   0.2s\n",
      "[CV] END ....................................C=1, solver=sag; total time=   0.2s\n",
      "[CV] END ....................................C=1, solver=sag; total time=   0.2s\n",
      "[CV] END ....................................C=1, solver=sag; total time=   0.2s\n",
      "[CV] END ....................................C=1, solver=sag; total time=   0.2s\n",
      "[CV] END ...................................C=1, solver=saga; total time=   0.2s\n",
      "[CV] END ...................................C=1, solver=saga; total time=   0.2s\n",
      "[CV] END ...................................C=1, solver=saga; total time=   0.2s\n",
      "[CV] END ...................................C=1, solver=saga; total time=   0.2s\n",
      "[CV] END ...................................C=1, solver=saga; total time=   0.2s\n",
      "[CV] END ..................................C=1, solver=lbfgs; total time=   0.2s\n",
      "[CV] END ..................................C=1, solver=lbfgs; total time=   0.3s\n",
      "[CV] END ..................................C=1, solver=lbfgs; total time=   0.3s\n",
      "[CV] END ..................................C=1, solver=lbfgs; total time=   0.3s\n",
      "[CV] END ..................................C=1, solver=lbfgs; total time=   0.3s\n",
      "[CV] END ....................................C=5, solver=sag; total time=   0.3s\n",
      "[CV] END ....................................C=5, solver=sag; total time=   0.3s\n",
      "[CV] END ....................................C=5, solver=sag; total time=   0.3s\n",
      "[CV] END ....................................C=5, solver=sag; total time=   0.3s\n",
      "[CV] END ....................................C=5, solver=sag; total time=   0.3s\n",
      "[CV] END ...................................C=5, solver=saga; total time=   0.5s\n",
      "[CV] END ...................................C=5, solver=saga; total time=   0.5s\n",
      "[CV] END ...................................C=5, solver=saga; total time=   0.5s\n",
      "[CV] END ...................................C=5, solver=saga; total time=   0.6s\n",
      "[CV] END ...................................C=5, solver=saga; total time=   0.7s\n",
      "[CV] END ..................................C=5, solver=lbfgs; total time=   0.3s\n",
      "[CV] END ..................................C=5, solver=lbfgs; total time=   0.3s\n",
      "[CV] END ..................................C=5, solver=lbfgs; total time=   0.3s\n",
      "[CV] END ..................................C=5, solver=lbfgs; total time=   0.3s\n",
      "[CV] END ..................................C=5, solver=lbfgs; total time=   0.3s\n",
      "[CV] END ...................................C=10, solver=sag; total time=   0.4s\n",
      "[CV] END ...................................C=10, solver=sag; total time=   0.3s\n",
      "[CV] END ...................................C=10, solver=sag; total time=   0.4s\n",
      "[CV] END ...................................C=10, solver=sag; total time=   0.4s\n",
      "[CV] END ...................................C=10, solver=sag; total time=   0.4s\n",
      "[CV] END ..................................C=10, solver=saga; total time=   0.6s\n",
      "[CV] END ..................................C=10, solver=saga; total time=   0.6s\n",
      "[CV] END ..................................C=10, solver=saga; total time=   0.6s\n",
      "[CV] END ..................................C=10, solver=saga; total time=   0.6s\n",
      "[CV] END ..................................C=10, solver=saga; total time=   0.6s\n",
      "[CV] END .................................C=10, solver=lbfgs; total time=   0.3s\n"
     ]
    },
    {
     "name": "stdout",
     "output_type": "stream",
     "text": [
      "[CV] END .................................C=10, solver=lbfgs; total time=   0.3s\n",
      "[CV] END .................................C=10, solver=lbfgs; total time=   0.3s\n",
      "[CV] END .................................C=10, solver=lbfgs; total time=   0.3s\n",
      "[CV] END .................................C=10, solver=lbfgs; total time=   0.4s\n",
      "[CV] END ...................................C=25, solver=sag; total time=   0.5s\n",
      "[CV] END ...................................C=25, solver=sag; total time=   0.5s\n",
      "[CV] END ...................................C=25, solver=sag; total time=   0.5s\n",
      "[CV] END ...................................C=25, solver=sag; total time=   0.5s\n",
      "[CV] END ...................................C=25, solver=sag; total time=   0.5s\n",
      "[CV] END ..................................C=25, solver=saga; total time=   0.6s\n",
      "[CV] END ..................................C=25, solver=saga; total time=   0.6s\n",
      "[CV] END ..................................C=25, solver=saga; total time=   0.7s\n",
      "[CV] END ..................................C=25, solver=saga; total time=   0.7s\n",
      "[CV] END ..................................C=25, solver=saga; total time=   0.6s\n",
      "[CV] END .................................C=25, solver=lbfgs; total time=   0.2s\n",
      "[CV] END .................................C=25, solver=lbfgs; total time=   0.2s\n",
      "[CV] END .................................C=25, solver=lbfgs; total time=   0.2s\n",
      "[CV] END .................................C=25, solver=lbfgs; total time=   0.2s\n",
      "[CV] END .................................C=25, solver=lbfgs; total time=   0.2s\n",
      "              precision    recall  f1-score   support\n",
      "\n",
      "     natural       0.86      1.00      0.93     10233\n",
      "     unknown       0.00      0.00      0.00       260\n",
      "   unnatural       0.00      0.00      0.00      1377\n",
      "\n",
      "    accuracy                           0.86     11870\n",
      "   macro avg       0.29      0.33      0.31     11870\n",
      "weighted avg       0.74      0.86      0.80     11870\n",
      "\n"
     ]
    }
   ],
   "source": [
    "from sklearn.model_selection import GridSearchCV\n",
    "\n",
    "clf = LogisticRegression()\n",
    "grid_values = {'solver':['sag','saga','lbfgs'], 'C':[0.001,.009,0.01,.09,1,5,10,25]}\n",
    "grid_clf_acc = GridSearchCV(clf, param_grid = grid_values, scoring = 'recall_macro', verbose=2)\n",
    "grid_clf_acc.fit(X_train, y_train)\n",
    "\n",
    "y_pred_grid = grid_clf_acc.predict(X_test)\n",
    "\n",
    "#Logistic Regression (Grid Search) \n",
    "print(classification_report(y_test,y_pred_grid))"
   ]
  },
  {
   "cell_type": "markdown",
   "metadata": {},
   "source": [
    "Perform final evaluation using test data"
   ]
  },
  {
   "cell_type": "code",
   "execution_count": 83,
   "metadata": {},
   "outputs": [
    {
     "name": "stdout",
     "output_type": "stream",
     "text": [
      "              precision    recall  f1-score   support\n",
      "\n",
      "     natural       0.86      1.00      0.93     10233\n",
      "     unknown       0.00      0.00      0.00       260\n",
      "   unnatural       0.00      0.00      0.00      1377\n",
      "\n",
      "    accuracy                           0.86     11870\n",
      "   macro avg       0.29      0.33      0.31     11870\n",
      "weighted avg       0.74      0.86      0.80     11870\n",
      "\n"
     ]
    }
   ],
   "source": [
    "y_pred_q2 = grid_clf_acc.predict(X_test)\n",
    "y_test_q2 = y_test\n",
    "\n",
    "print(classification_report(y_test,y_pred_q2))"
   ]
  },
  {
   "cell_type": "markdown",
   "metadata": {},
   "source": [
    "# Question3\n",
    " Do demographic features such as age or sex influence cause of death?"
   ]
  },
  {
   "cell_type": "markdown",
   "metadata": {},
   "source": [
    "The model created for this Question is a Support Vector Machine. The model is implemented via Scikit Learn's [SVM](https://scikit-learn.org/stable/modules/svm.html) class. \n",
    "\n",
    "The features required for this model are:\n",
    " - `sex` (categorical)\n",
    " - `age` (categorical)\n",
    " - `cause` (categorical)\n",
    " - `pop_group` (categorical)\n",
    " \n",
    " \n",
    "`cause` is being predicted.\n",
    "- `cause` has three possible values:\n",
    "    - `natural`\n",
    "    - `unnatural`\n",
    "    - `unkown`\n"
   ]
  },
  {
   "cell_type": "code",
   "execution_count": 84,
   "metadata": {},
   "outputs": [
    {
     "data": {
      "text/html": [
       "<div>\n",
       "<style scoped>\n",
       "    .dataframe tbody tr th:only-of-type {\n",
       "        vertical-align: middle;\n",
       "    }\n",
       "\n",
       "    .dataframe tbody tr th {\n",
       "        vertical-align: top;\n",
       "    }\n",
       "\n",
       "    .dataframe thead th {\n",
       "        text-align: right;\n",
       "    }\n",
       "</style>\n",
       "<table border=\"1\" class=\"dataframe\">\n",
       "  <thead>\n",
       "    <tr style=\"text-align: right;\">\n",
       "      <th></th>\n",
       "      <th>sex</th>\n",
       "      <th>age</th>\n",
       "      <th>cause</th>\n",
       "      <th>pop_group</th>\n",
       "    </tr>\n",
       "    <tr>\n",
       "      <th>SN</th>\n",
       "      <th></th>\n",
       "      <th></th>\n",
       "      <th></th>\n",
       "      <th></th>\n",
       "    </tr>\n",
       "  </thead>\n",
       "  <tbody>\n",
       "    <tr>\n",
       "      <th>11809257867</th>\n",
       "      <td>female</td>\n",
       "      <td>0.0</td>\n",
       "      <td>natural</td>\n",
       "      <td>coloured</td>\n",
       "    </tr>\n",
       "    <tr>\n",
       "      <th>10104528209</th>\n",
       "      <td>male</td>\n",
       "      <td>85.0</td>\n",
       "      <td>natural</td>\n",
       "      <td>coloured</td>\n",
       "    </tr>\n",
       "    <tr>\n",
       "      <th>10104521225</th>\n",
       "      <td>male</td>\n",
       "      <td>72.0</td>\n",
       "      <td>natural</td>\n",
       "      <td>coloured</td>\n",
       "    </tr>\n",
       "    <tr>\n",
       "      <th>11917226239</th>\n",
       "      <td>male</td>\n",
       "      <td>73.0</td>\n",
       "      <td>natural</td>\n",
       "      <td>coloured</td>\n",
       "    </tr>\n",
       "    <tr>\n",
       "      <th>11916914190</th>\n",
       "      <td>female</td>\n",
       "      <td>46.0</td>\n",
       "      <td>natural</td>\n",
       "      <td>indian/asian</td>\n",
       "    </tr>\n",
       "  </tbody>\n",
       "</table>\n",
       "</div>"
      ],
      "text/plain": [
       "                sex   age    cause     pop_group\n",
       "SN                                              \n",
       "11809257867  female   0.0  natural      coloured\n",
       "10104528209    male  85.0  natural      coloured\n",
       "10104521225    male  72.0  natural      coloured\n",
       "11917226239    male  73.0  natural      coloured\n",
       "11916914190  female  46.0  natural  indian/asian"
      ]
     },
     "execution_count": 84,
     "metadata": {},
     "output_type": "execute_result"
    }
   ],
   "source": [
    "q3_df = clean_df[['sex','age','cause','pop_group']].copy()\n",
    "q3_df.dropna(inplace=True) # Cannot predict without data\n",
    "q3_df.head()"
   ]
  },
  {
   "cell_type": "code",
   "execution_count": 85,
   "metadata": {},
   "outputs": [],
   "source": [
    "X = q3_df.drop(['cause'], axis=1)\n",
    "y = q3_df['cause']"
   ]
  },
  {
   "cell_type": "markdown",
   "metadata": {},
   "source": [
    "### Data preparation so data can be fed into model"
   ]
  },
  {
   "cell_type": "code",
   "execution_count": 86,
   "metadata": {},
   "outputs": [],
   "source": [
    "infile = open('data/2011_census_mortality_clean.pkl','rb')\n",
    "df = pickle.load(infile)\n",
    "infile.close()\n",
    "\n",
    "from sklearn.metrics import accuracy_score\n",
    "from sklearn import svm\n",
    "\n",
    "new_df = df[['sex', 'age','cause','pop_group']]\n",
    "new_df = new_df.dropna()\n",
    "\n",
    "X = new_df[['sex', 'age','pop_group']]\n",
    "y = new_df[['cause']].values\n",
    "\n",
    "enc = OneHotEncoder(handle_unknown='ignore')\n",
    "X_enc = X.drop('age', axis=1)\n",
    "enc.fit(X_enc)\n",
    "\n",
    "# X_arr is a numpy array\n",
    "X_arr = enc.transform(X_enc).toarray()\n",
    "# add age back\n",
    "X_arr = np.append(X_arr, X[['age']].to_numpy(), axis=1).astype('float')"
   ]
  },
  {
   "cell_type": "markdown",
   "metadata": {},
   "source": [
    "Train-Validation Split"
   ]
  },
  {
   "cell_type": "code",
   "execution_count": 87,
   "metadata": {},
   "outputs": [],
   "source": [
    "X_train_orig, X_test, y_train_orig, y_test = train_test_split(X_arr, y, test_size=0.3)\n",
    "X_train, X_valid, y_train, y_valid = train_test_split(X_train_orig, y_train_orig, test_size=0.3)"
   ]
  },
  {
   "cell_type": "code",
   "execution_count": 88,
   "metadata": {},
   "outputs": [],
   "source": [
    "#Fit svm model\n",
    "svm_model = svm.SVC(kernel='rbf', gamma=0.1, C=0.1).fit(X_train, y_train)"
   ]
  },
  {
   "cell_type": "markdown",
   "metadata": {},
   "source": [
    "Evaluate using validation data"
   ]
  },
  {
   "cell_type": "code",
   "execution_count": 89,
   "metadata": {
    "scrolled": true
   },
   "outputs": [
    {
     "data": {
      "text/plain": [
       "array(['natural', 'natural', 'natural', ..., 'natural', 'natural',\n",
       "       'natural'], dtype=object)"
      ]
     },
     "execution_count": 89,
     "metadata": {},
     "output_type": "execute_result"
    }
   ],
   "source": [
    "y_valid_pred = svm_model.predict(X_valid)\n",
    "y_valid_pred"
   ]
  },
  {
   "cell_type": "code",
   "execution_count": 90,
   "metadata": {},
   "outputs": [
    {
     "name": "stdout",
     "output_type": "stream",
     "text": [
      "              precision    recall  f1-score   support\n",
      "\n",
      "     natural       0.87      0.99      0.92      6953\n",
      "     unknown       0.00      0.00      0.00       173\n",
      "   unnatural       0.53      0.09      0.15       954\n",
      "\n",
      "    accuracy                           0.86      8080\n",
      "   macro avg       0.46      0.36      0.36      8080\n",
      "weighted avg       0.81      0.86      0.81      8080\n",
      "\n"
     ]
    }
   ],
   "source": [
    "print(classification_report(y_valid, y_valid_pred))"
   ]
  },
  {
   "cell_type": "markdown",
   "metadata": {},
   "source": [
    "Perform grid search to find better hyperparameters."
   ]
  },
  {
   "cell_type": "code",
   "execution_count": 91,
   "metadata": {},
   "outputs": [
    {
     "data": {
      "text/plain": [
       "GridSearchCV(estimator=SVC(),\n",
       "             param_grid={'C': [1, 10], 'gamma': [0.001, 0.01, 1]})"
      ]
     },
     "execution_count": 91,
     "metadata": {},
     "output_type": "execute_result"
    }
   ],
   "source": [
    "from sklearn.svm import SVC\n",
    "from sklearn.model_selection import GridSearchCV\n",
    "\n",
    "parameters = {'C': [1, 10],'gamma': [0.001, 0.01, 1]}\n",
    "model = SVC()\n",
    "grid = GridSearchCV(estimator=model, param_grid=parameters)\n",
    "grid.fit(X_train,y_train)\n",
    "\n"
   ]
  },
  {
   "cell_type": "code",
   "execution_count": 92,
   "metadata": {},
   "outputs": [
    {
     "name": "stdout",
     "output_type": "stream",
     "text": [
      "GridSearchCV(estimator=SVC(),\n",
      "             param_grid={'C': [1, 10], 'gamma': [0.001, 0.01, 1]})\n",
      "0.8613939832604963\n",
      "SVC(C=10, gamma=0.01)\n"
     ]
    }
   ],
   "source": [
    "print(grid)\n",
    "print(grid.best_score_)\n",
    "print(grid.best_estimator_)"
   ]
  },
  {
   "cell_type": "code",
   "execution_count": 93,
   "metadata": {},
   "outputs": [
    {
     "name": "stdout",
     "output_type": "stream",
     "text": [
      "              precision    recall  f1-score   support\n",
      "\n",
      "     natural       0.87      0.98      0.93      9959\n",
      "     unknown       0.00      0.00      0.00       237\n",
      "   unnatural       0.51      0.13      0.21      1347\n",
      "\n",
      "    accuracy                           0.86     11543\n",
      "   macro avg       0.46      0.37      0.38     11543\n",
      "weighted avg       0.81      0.86      0.82     11543\n",
      "\n"
     ]
    }
   ],
   "source": [
    "#Logistic Regression (Grid Search) \n",
    "y_pred = grid.predict(X_test)\n",
    "print(classification_report(y_test,y_pred))"
   ]
  },
  {
   "cell_type": "markdown",
   "metadata": {},
   "source": [
    "Perform final evaluation using test data"
   ]
  },
  {
   "cell_type": "code",
   "execution_count": 94,
   "metadata": {},
   "outputs": [
    {
     "name": "stdout",
     "output_type": "stream",
     "text": [
      "              precision    recall  f1-score   support\n",
      "\n",
      "     natural       0.87      0.99      0.93      9959\n",
      "     unknown       0.00      0.00      0.00       237\n",
      "   unnatural       0.50      0.09      0.15      1347\n",
      "\n",
      "    accuracy                           0.86     11543\n",
      "   macro avg       0.46      0.36      0.36     11543\n",
      "weighted avg       0.81      0.86      0.82     11543\n",
      "\n"
     ]
    }
   ],
   "source": [
    "y_pred_q3 = svm_model.predict(X_test)\n",
    "y_test_q3 = y_test\n",
    "\n",
    "svm_accuracy = accuracy_score(y_test, y_pred_q3)\n",
    "print(classification_report(y_test,y_pred_q3))"
   ]
  },
  {
   "cell_type": "markdown",
   "metadata": {},
   "source": [
    "## Hypothesis Testing"
   ]
  },
  {
   "cell_type": "markdown",
   "metadata": {},
   "source": [
    "For our hypothesis testing we have decided to use the following tests for each of our research questions:\n",
    "\n",
    "Q1: ANOVA testing\n",
    "\n",
    "We decided to use the ANOVA methodology for this question as it allows us to compare relationships between multiple variables.\n",
    "\n",
    "Q2: Chi Squared\n",
    "\n",
    "We decided to use Chi Squared testing for question 2 as it is effective in comparing the relationships between two variables. This way we can use multiple chi squared tests to check multiple different relationships.\n",
    "\n",
    "Q3: Chi Squared\n",
    "\n",
    "We opted to use Chi squared again for testing here as the type of testing is the same. Checking relationships between 2 variables."
   ]
  },
  {
   "cell_type": "markdown",
   "metadata": {},
   "source": [
    "### Anova\n",
    "Anova is a F-distribution based test which is used to compare relationships between variables by comparing their means. It stands for, Analysis of Variance.\n",
    "\n",
    "### Chi Squared\n",
    "Chi Squared measures how a model compares to observed data. It compares discrepancies of actual data to expected results. It is generally used to compare two features to each other."
   ]
  },
  {
   "cell_type": "markdown",
   "metadata": {},
   "source": [
    "## Question 1\n",
    "1. Is there a relationship between month of death to age, gender or race?"
   ]
  },
  {
   "cell_type": "markdown",
   "metadata": {},
   "source": [
    "#### Null and Alternative Hypotheses"
   ]
  },
  {
   "cell_type": "markdown",
   "metadata": {},
   "source": [
    "Null Hypothesis: There is no relationship between months of death and age, gender or race.\n",
    "\n",
    "\n",
    "Alternative Hypothesis: There is a relationship between  months of death and age, gender or race."
   ]
  },
  {
   "cell_type": "markdown",
   "metadata": {},
   "source": [
    "We have decided to use ANOVA testing to test the relationships between the variables"
   ]
  },
  {
   "cell_type": "code",
   "execution_count": 108,
   "metadata": {},
   "outputs": [
    {
     "name": "stderr",
     "output_type": "stream",
     "text": [
      "D:\\Users\\Ahmad\\Anaconda3\\lib\\site-packages\\statsmodels\\base\\model.py:1834: ValueWarning: covariance of constraints does not have full rank. The number of constraints is 1039, but rank is 673\n",
      "  'rank is %d' % (J, J_), ValueWarning)\n"
     ]
    },
    {
     "data": {
      "text/html": [
       "<div>\n",
       "<style scoped>\n",
       "    .dataframe tbody tr th:only-of-type {\n",
       "        vertical-align: middle;\n",
       "    }\n",
       "\n",
       "    .dataframe tbody tr th {\n",
       "        vertical-align: top;\n",
       "    }\n",
       "\n",
       "    .dataframe thead th {\n",
       "        text-align: right;\n",
       "    }\n",
       "</style>\n",
       "<table border=\"1\" class=\"dataframe\">\n",
       "  <thead>\n",
       "    <tr style=\"text-align: right;\">\n",
       "      <th></th>\n",
       "      <th>sum_sq</th>\n",
       "      <th>df</th>\n",
       "      <th>F</th>\n",
       "      <th>PR(&gt;F)</th>\n",
       "    </tr>\n",
       "  </thead>\n",
       "  <tbody>\n",
       "    <tr>\n",
       "      <th>Intercept</th>\n",
       "      <td>68697.798575</td>\n",
       "      <td>1.0</td>\n",
       "      <td>6167.172298</td>\n",
       "      <td>0.000000</td>\n",
       "    </tr>\n",
       "    <tr>\n",
       "      <th>C(age)</th>\n",
       "      <td>1302.494012</td>\n",
       "      <td>115.0</td>\n",
       "      <td>1.016766</td>\n",
       "      <td>0.432521</td>\n",
       "    </tr>\n",
       "    <tr>\n",
       "      <th>C(pop_group)</th>\n",
       "      <td>33.968801</td>\n",
       "      <td>4.0</td>\n",
       "      <td>0.762366</td>\n",
       "      <td>0.549589</td>\n",
       "    </tr>\n",
       "    <tr>\n",
       "      <th>C(sex)</th>\n",
       "      <td>8.936062</td>\n",
       "      <td>1.0</td>\n",
       "      <td>0.802213</td>\n",
       "      <td>0.370438</td>\n",
       "    </tr>\n",
       "    <tr>\n",
       "      <th>C(age):C(sex):C(pop_group)</th>\n",
       "      <td>11167.216964</td>\n",
       "      <td>1039.0</td>\n",
       "      <td>0.964879</td>\n",
       "      <td>0.735224</td>\n",
       "    </tr>\n",
       "    <tr>\n",
       "      <th>Residual</th>\n",
       "      <td>426968.226634</td>\n",
       "      <td>38330.0</td>\n",
       "      <td>NaN</td>\n",
       "      <td>NaN</td>\n",
       "    </tr>\n",
       "  </tbody>\n",
       "</table>\n",
       "</div>"
      ],
      "text/plain": [
       "                                   sum_sq       df            F    PR(>F)\n",
       "Intercept                    68697.798575      1.0  6167.172298  0.000000\n",
       "C(age)                        1302.494012    115.0     1.016766  0.432521\n",
       "C(pop_group)                    33.968801      4.0     0.762366  0.549589\n",
       "C(sex)                           8.936062      1.0     0.802213  0.370438\n",
       "C(age):C(sex):C(pop_group)   11167.216964   1039.0     0.964879  0.735224\n",
       "Residual                    426968.226634  38330.0          NaN       NaN"
      ]
     },
     "metadata": {},
     "output_type": "display_data"
    },
    {
     "name": "stdout",
     "output_type": "stream",
     "text": [
      "Reject H0, there's no relationship between variables(age,sex,pop_group) and month\n"
     ]
    }
   ],
   "source": [
    "\n",
    "\n",
    "infile = open('data/2011_census_mortality_clean.pkl','rb')\n",
    "df = pickle.load(infile)\n",
    "infile.close()\n",
    "\n",
    "new_df = df[['month','sex', 'age','pop_group']]\n",
    "new_df.head()\n",
    "\n",
    "import statsmodels.api as sm\n",
    "from statsmodels.formula.api import ols\n",
    "model = ols('month ~ C(age) + C(pop_group) + C(sex) + C(age):C(sex):C(pop_group)', data=new_df).fit()\n",
    "\n",
    "anova_table = sm.stats.anova_lm(model, typ=3)\n",
    "display(anova_table)\n",
    "\n",
    "row = anova_table.iloc[4]\n",
    "PR = row['PR(>F)']\n",
    "\n",
    "\n",
    "if PR>0.05:\n",
    "    print(\"Reject H0, there's no relationship between variables(age,sex,pop_group) and month\")\n",
    "\n",
    "else: \n",
    "    print(\"Retain H0, there's a relationship between variables(age,sex,pop_group) and month\")\n",
    "\n"
   ]
  },
  {
   "cell_type": "markdown",
   "metadata": {},
   "source": [
    "## Question 2\n",
    "2. Does the geographical type of people influence the type of death? For example, do people in Rural or Urban areas suffer from natural deaths more frequently?"
   ]
  },
  {
   "cell_type": "markdown",
   "metadata": {},
   "source": [
    "#### Null and Alternative Hypotheses"
   ]
  },
  {
   "cell_type": "markdown",
   "metadata": {},
   "source": [
    "Null Hypothesis: Geographical type does not influence the type of death\n",
    "\n",
    "Alternative Hypothesis: Geographical type does influence the type of death"
   ]
  },
  {
   "cell_type": "markdown",
   "metadata": {},
   "source": [
    "We have decided to implement multiple chi squared tests to test each relationship"
   ]
  },
  {
   "cell_type": "code",
   "execution_count": 109,
   "metadata": {},
   "outputs": [
    {
     "name": "stdout",
     "output_type": "stream",
     "text": [
      "chi statistic: 0.00019630359483713278\n",
      "Reject H0, there's a relationship between variables geotype and cause\n"
     ]
    }
   ],
   "source": [
    "from scipy.stats import chi2_contingency\n",
    "\n",
    "cont = pd.crosstab(q2_df.geotype, q2_df.cause, margins=True)\n",
    "\n",
    "\n",
    "o_v = cont.values \n",
    "b=chi2_contingency(cont)\n",
    "e_v = b[3]\n",
    "\n",
    "rows =len(cont.iloc[0:2,0])\n",
    "cols =len(cont.iloc[0,0:2])\n",
    "ddof=(rows-1)*(cols-1)\n",
    "\n",
    "from scipy.stats import chi2_contingency\n",
    "from scipy.stats import chi2\n",
    "chi_square=sum([(o-e)**2./e for o,e in zip(o_v,e_v)])\n",
    "chi_stat=chi_square[0]+chi_square[1]\n",
    "c_v=chi2.ppf(df=ddof,q=1-0.05)\n",
    "p_value=1-chi2.cdf(x=chi_stat,df=ddof)\n",
    "print(\"chi statistic:\",p_value)\n",
    "\n",
    "\n",
    "if chi_stat>=c_v:\n",
    "    print(\"Reject H0, there's a relationship between variables geotype and cause\")\n",
    "\n",
    "else: \n",
    "    print(\"Retain H0, there's no relationship between variables geotype and cause\")"
   ]
  },
  {
   "cell_type": "code",
   "execution_count": 97,
   "metadata": {},
   "outputs": [
    {
     "name": "stdout",
     "output_type": "stream",
     "text": [
      "chi statistic: 3.393174630161866e-11\n",
      "Reject H0, there's a relationship between variables province and cause\n"
     ]
    }
   ],
   "source": [
    "\n",
    "cont = pd.crosstab(q2_df.province, q2_df.cause, margins=True)\n",
    "\n",
    "\n",
    "o_v = cont.values \n",
    "b=chi2_contingency(cont)\n",
    "e_v = b[3]\n",
    "\n",
    "rows =len(cont.iloc[0:2,0])\n",
    "cols =len(cont.iloc[0,0:2])\n",
    "ddof=(rows-1)*(cols-1)\n",
    "\n",
    "\n",
    "from scipy.stats import chi2\n",
    "chi_square=sum([(o-e)**2./e for o,e in zip(o_v,e_v)])\n",
    "chi_stat=chi_square[0]+chi_square[1]\n",
    "c_v=chi2.ppf(df=ddof,q=1-0.05)\n",
    "p_value=1-chi2.cdf(x=chi_stat,df=ddof)\n",
    "print(\"chi statistic:\",p_value)\n",
    "\n",
    "\n",
    "if chi_stat>=c_v:\n",
    "    print(\"Reject H0, there's a relationship between variables province and cause\")\n",
    "\n",
    "else: \n",
    "    print(\"Retain H0, there's no relationship between variables province and cause\")"
   ]
  },
  {
   "cell_type": "markdown",
   "metadata": {},
   "source": [
    "## Question 3\n",
    "3. Do demographic features population group(race) and sex influence cause of death?"
   ]
  },
  {
   "cell_type": "markdown",
   "metadata": {},
   "source": [
    "#### Null and Alternative Hypotheses"
   ]
  },
  {
   "cell_type": "markdown",
   "metadata": {},
   "source": [
    "Null Hypothesis: Demographic features population group and sex do not influence cause of death\n",
    "\n",
    "Alternative Hypothesis: Demographic features population group and sex do influence cause of death"
   ]
  },
  {
   "cell_type": "markdown",
   "metadata": {},
   "source": [
    "We have decided to implent multiple chi-squared tests here to test each relationship seperately"
   ]
  },
  {
   "cell_type": "markdown",
   "metadata": {},
   "source": [
    "The first we will investigate is the relationship between gender and deaths per month."
   ]
  },
  {
   "cell_type": "code",
   "execution_count": 98,
   "metadata": {},
   "outputs": [
    {
     "name": "stdout",
     "output_type": "stream",
     "text": [
      "chi statistic: 80.39797724321191\n",
      "Reject H0, there's a relationship between variables sex and cause\n"
     ]
    }
   ],
   "source": [
    "infile = open('data/2011_census_mortality_clean.pkl','rb')\n",
    "df = pickle.load(infile)\n",
    "infile.close()\n",
    "\n",
    "from scipy.stats import chi2_contingency\n",
    "\n",
    "new_df = df[['sex', 'age','cause','pop_group']]\n",
    "new_df = new_df.replace(['natural', 'unknown', 'unnatural'],[0,1,2])\n",
    "new_df = new_df.replace(['male', 'female'],[0,1])\n",
    "new_df = new_df.replace(['black', 'coloured', 'indian/asian', 'other', 'white'],[0,1,2,3,4])\n",
    "new_df = new_df.dropna()\n",
    "\n",
    "new_df.head()\n",
    "\n",
    "\n",
    "cont = pd.crosstab(new_df.sex, new_df.cause, margins=True)\n",
    "\n",
    "\n",
    "o_v = cont.values \n",
    "b=chi2_contingency(cont)\n",
    "e_v = b[3]\n",
    "\n",
    "rows =len(cont.iloc[0:2,0])\n",
    "cols =len(cont.iloc[0,0:2])\n",
    "ddof=(rows-1)*(cols-1)\n",
    "\n",
    "\n",
    "from scipy.stats import chi2\n",
    "chi_square=sum([(o-e)**2./e for o,e in zip(o_v,e_v)])\n",
    "chi_stat=chi_square[0]+chi_square[1]\n",
    "c_v=chi2.ppf(df=ddof,q=1-0.05)\n",
    "p_value=1-chi2.cdf(x=chi_stat,df=ddof)\n",
    "print(\"chi statistic:\",chi_stat)\n",
    "\n",
    "\n",
    "if chi_stat>=c_v:\n",
    "    print(\"Reject H0, there's a relationship between variables sex and cause\")\n",
    "\n",
    "else: \n",
    "    print(\"Retain H0, there's no relationship between variables sex and cause\")"
   ]
  },
  {
   "cell_type": "code",
   "execution_count": 99,
   "metadata": {},
   "outputs": [
    {
     "name": "stdout",
     "output_type": "stream",
     "text": [
      "chi statistic: 21.798607571981716\n",
      "Reject H0, there's a relationship between variables pop_group and cause\n"
     ]
    }
   ],
   "source": [
    "cont = pd.crosstab(new_df.pop_group, new_df.cause, margins=True)\n",
    "\n",
    "\n",
    "o_v = cont.values \n",
    "b=chi2_contingency(cont)\n",
    "e_v = b[3]\n",
    "\n",
    "rows =len(cont.iloc[0:2,0])\n",
    "cols =len(cont.iloc[0,0:2])\n",
    "ddof=(rows-1)*(cols-1)\n",
    "\n",
    "\n",
    "from scipy.stats import chi2\n",
    "chi_square=sum([(o-e)**2./e for o,e in zip(o_v,e_v)])\n",
    "chi_stat=chi_square[0]+chi_square[1]\n",
    "c_v=chi2.ppf(df=ddof,q=1-0.05)\n",
    "p_value=1-chi2.cdf(x=chi_stat,df=ddof)\n",
    "print(\"chi statistic:\",chi_stat)\n",
    "\n",
    "\n",
    "if chi_stat>=c_v:\n",
    "    print(\"Reject H0, there's a relationship between variables pop_group and cause\")\n",
    "\n",
    "else: \n",
    "    print(\"Retain H0, there's no relationship between variables pop_group and cause\")"
   ]
  },
  {
   "cell_type": "markdown",
   "metadata": {},
   "source": [
    "## Interpreting Results"
   ]
  },
  {
   "cell_type": "markdown",
   "metadata": {},
   "source": [
    "### Analysis of Models"
   ]
  },
  {
   "cell_type": "code",
   "execution_count": 100,
   "metadata": {},
   "outputs": [],
   "source": [
    "# Imports\n",
    "from sklearn.metrics import classification_report, mean_squared_error as mse, mean_absolute_error as mae, confusion_matrix"
   ]
  },
  {
   "cell_type": "markdown",
   "metadata": {},
   "source": [
    "The classification metrics **precision**, **recall** and **F1 score** are used. Their formulas are given below.\n",
    "\n",
    "**Precision** $= \\frac{\\text{#True Postives}}{\\text{#True Postives} + \\text{#False Postives}}$  <br>\n",
    "I.e. the percentage of positive predictions which were predicted correctly.\n",
    "\n",
    "**Recall** $= \\frac{\\text{#True Postives}}{\\text{#True Postives} + \\text{#False Negatives}}$ <br>\n",
    "I.e. the percentage of positive labels which were predicted correctly.\n",
    "\n",
    "**F1 Score** $= 2 \\times \\frac{\\text{Precision} \\times \\text{Recall}}{\\text{Precision} + \\text{Recall}}$ <br>\n",
    "I.e. the harmonic mean of precision and recall."
   ]
  },
  {
   "cell_type": "markdown",
   "metadata": {},
   "source": [
    "#### Question 1"
   ]
  },
  {
   "cell_type": "code",
   "execution_count": 101,
   "metadata": {},
   "outputs": [
    {
     "name": "stdout",
     "output_type": "stream",
     "text": [
      "Mean Squared Error: 11.094317118537687\n",
      "Mean Absolute Error: 2.8702941216449838\n"
     ]
    }
   ],
   "source": [
    "print(f\"Mean Squared Error: {mse(y_test_q1, y_pred_q1)}\")\n",
    "print(f\"Mean Absolute Error: {mae(y_test_q1, y_pred_q1)}\")"
   ]
  },
  {
   "cell_type": "markdown",
   "metadata": {},
   "source": [
    "From the mean absolute error we can see that on average the predicted month varies by ~3 months from the actual month. This indicates poor performance of the model."
   ]
  },
  {
   "cell_type": "markdown",
   "metadata": {},
   "source": [
    "#### Question 2"
   ]
  },
  {
   "cell_type": "code",
   "execution_count": 102,
   "metadata": {},
   "outputs": [
    {
     "data": {
      "text/html": [
       "<div>\n",
       "<style scoped>\n",
       "    .dataframe tbody tr th:only-of-type {\n",
       "        vertical-align: middle;\n",
       "    }\n",
       "\n",
       "    .dataframe tbody tr th {\n",
       "        vertical-align: top;\n",
       "    }\n",
       "\n",
       "    .dataframe thead th {\n",
       "        text-align: right;\n",
       "    }\n",
       "</style>\n",
       "<table border=\"1\" class=\"dataframe\">\n",
       "  <thead>\n",
       "    <tr style=\"text-align: right;\">\n",
       "      <th></th>\n",
       "      <th>natural</th>\n",
       "      <th>unkown</th>\n",
       "      <th>unnatural</th>\n",
       "    </tr>\n",
       "  </thead>\n",
       "  <tbody>\n",
       "    <tr>\n",
       "      <th>natural</th>\n",
       "      <td>10233</td>\n",
       "      <td>0</td>\n",
       "      <td>0</td>\n",
       "    </tr>\n",
       "    <tr>\n",
       "      <th>unkown</th>\n",
       "      <td>260</td>\n",
       "      <td>0</td>\n",
       "      <td>0</td>\n",
       "    </tr>\n",
       "    <tr>\n",
       "      <th>unnatural</th>\n",
       "      <td>1377</td>\n",
       "      <td>0</td>\n",
       "      <td>0</td>\n",
       "    </tr>\n",
       "  </tbody>\n",
       "</table>\n",
       "</div>"
      ],
      "text/plain": [
       "           natural  unkown  unnatural\n",
       "natural      10233       0          0\n",
       "unkown         260       0          0\n",
       "unnatural     1377       0          0"
      ]
     },
     "execution_count": 102,
     "metadata": {},
     "output_type": "execute_result"
    }
   ],
   "source": [
    "conf_mat = confusion_matrix(y_test_q2, y_pred_q2)\n",
    "conf_mat_pd = pd.DataFrame(conf_mat, columns = [\"natural\", \"unkown\", \"unnatural\"], index=[\"natural\", \"unkown\", \"unnatural\"])\n",
    "conf_mat_pd"
   ]
  },
  {
   "cell_type": "code",
   "execution_count": 103,
   "metadata": {},
   "outputs": [
    {
     "data": {
      "text/plain": [
       "<AxesSubplot:>"
      ]
     },
     "execution_count": 103,
     "metadata": {},
     "output_type": "execute_result"
    },
    {
     "data": {
      "image/png": "[encoded data removed]",
      "text/plain": [
       "<Figure size 432x288 with 2 Axes>"
      ]
     },
     "metadata": {},
     "output_type": "display_data"
    }
   ],
   "source": [
    "sns.heatmap(conf_mat_pd)"
   ]
  },
  {
   "cell_type": "markdown",
   "metadata": {},
   "source": [
    "From the above we can see that the model predicted all the test data as having a 'natural' cause of death. We can also see that there is dispraportionally more 'natural' deaths than 'unnatural' or 'unkown' which helps explain why the model is biased towards only predicting 'natural'."
   ]
  },
  {
   "cell_type": "code",
   "execution_count": 104,
   "metadata": {},
   "outputs": [
    {
     "name": "stdout",
     "output_type": "stream",
     "text": [
      "              precision    recall  f1-score   support\n",
      "\n",
      "     natural       0.86      1.00      0.93     10233\n",
      "     unknown       0.00      0.00      0.00       260\n",
      "   unnatural       0.00      0.00      0.00      1377\n",
      "\n",
      "    accuracy                           0.86     11870\n",
      "   macro avg       0.29      0.33      0.31     11870\n",
      "weighted avg       0.74      0.86      0.80     11870\n",
      "\n"
     ]
    }
   ],
   "source": [
    "print(f\"{classification_report(y_test_q2, y_pred_q2)}\")"
   ]
  },
  {
   "cell_type": "markdown",
   "metadata": {},
   "source": [
    "This model performs very poorly as it simply predicts all deaths as being 'natural'. By predicting all deaths as being 'natural' the model has a high total accuracy but this is simply because the data is biased and the majority of the deaths are 'natural'. Looking at the 'macro average' of the metrics precision, recall and f1-score we see a better indication of the perfromance of the model. The macro average of a metric is the (unweighted) average of that metric for each predicted label. I.e. in the case of the macro average of precision it would be $(0.86+0.00+0.00)/3 = 0.29$. The macro averages for precision, recall and f1-score are 0.29, 0.33 and 0.31 respectively. These numbers indicate very poor performance of the model for predicting all labels correctly rather than predicting 'natural' correctly."
   ]
  },
  {
   "cell_type": "markdown",
   "metadata": {},
   "source": [
    "#### Question 3"
   ]
  },
  {
   "cell_type": "code",
   "execution_count": 105,
   "metadata": {},
   "outputs": [
    {
     "data": {
      "text/html": [
       "<div>\n",
       "<style scoped>\n",
       "    .dataframe tbody tr th:only-of-type {\n",
       "        vertical-align: middle;\n",
       "    }\n",
       "\n",
       "    .dataframe tbody tr th {\n",
       "        vertical-align: top;\n",
       "    }\n",
       "\n",
       "    .dataframe thead th {\n",
       "        text-align: right;\n",
       "    }\n",
       "</style>\n",
       "<table border=\"1\" class=\"dataframe\">\n",
       "  <thead>\n",
       "    <tr style=\"text-align: right;\">\n",
       "      <th></th>\n",
       "      <th>natural</th>\n",
       "      <th>unkown</th>\n",
       "      <th>unnatural</th>\n",
       "    </tr>\n",
       "  </thead>\n",
       "  <tbody>\n",
       "    <tr>\n",
       "      <th>natural</th>\n",
       "      <td>9845</td>\n",
       "      <td>0</td>\n",
       "      <td>114</td>\n",
       "    </tr>\n",
       "    <tr>\n",
       "      <th>unkown</th>\n",
       "      <td>233</td>\n",
       "      <td>0</td>\n",
       "      <td>4</td>\n",
       "    </tr>\n",
       "    <tr>\n",
       "      <th>unnatural</th>\n",
       "      <td>1228</td>\n",
       "      <td>0</td>\n",
       "      <td>119</td>\n",
       "    </tr>\n",
       "  </tbody>\n",
       "</table>\n",
       "</div>"
      ],
      "text/plain": [
       "           natural  unkown  unnatural\n",
       "natural       9845       0        114\n",
       "unkown         233       0          4\n",
       "unnatural     1228       0        119"
      ]
     },
     "execution_count": 105,
     "metadata": {},
     "output_type": "execute_result"
    }
   ],
   "source": [
    "conf_mat = confusion_matrix(y_test_q3, y_pred_q3)\n",
    "conf_mat_pd = pd.DataFrame(conf_mat, columns = [\"natural\", \"unkown\", \"unnatural\"], index=[\"natural\", \"unkown\", \"unnatural\"])\n",
    "conf_mat_pd"
   ]
  },
  {
   "cell_type": "code",
   "execution_count": 106,
   "metadata": {},
   "outputs": [
    {
     "data": {
      "text/plain": [
       "<AxesSubplot:>"
      ]
     },
     "execution_count": 106,
     "metadata": {},
     "output_type": "execute_result"
    },
    {
     "data": {
      "image/png": "[encoded data removed]",
      "text/plain": [
       "<Figure size 432x288 with 2 Axes>"
      ]
     },
     "metadata": {},
     "output_type": "display_data"
    }
   ],
   "source": [
    "sns.heatmap(conf_mat_pd, cmap=\"plasma\")"
   ]
  },
  {
   "cell_type": "markdown",
   "metadata": {},
   "source": [
    "From the above we can see that the model predicted most of the test data as having a 'natural' cause of death. We can also see that there is dispraportionally more 'natural' deaths than 'unnatural' or 'unkown' which helps explain why the model is biased towards dispraportionally predicting 'natural'."
   ]
  },
  {
   "cell_type": "code",
   "execution_count": 107,
   "metadata": {},
   "outputs": [
    {
     "name": "stdout",
     "output_type": "stream",
     "text": [
      "              precision    recall  f1-score   support\n",
      "\n",
      "     natural       0.87      0.99      0.93      9959\n",
      "     unknown       0.00      0.00      0.00       237\n",
      "   unnatural       0.50      0.09      0.15      1347\n",
      "\n",
      "    accuracy                           0.86     11543\n",
      "   macro avg       0.46      0.36      0.36     11543\n",
      "weighted avg       0.81      0.86      0.82     11543\n",
      "\n"
     ]
    }
   ],
   "source": [
    "print(f\"{classification_report(y_test_q3, y_pred_q3)}\")"
   ]
  },
  {
   "cell_type": "markdown",
   "metadata": {},
   "source": [
    "This model performs very poorly as it simply predicts most deaths as being 'natural' and none as 'unkown'. By predicting most deaths as being 'natural' the model has a high total accuracy but this is simply because the data is biased and the majority of the deaths are 'natural'. Looking at the 'macro average' of the metrics precision, recall and f1-score we see a better indication of the performance of the model. In the case of the macro average of precision it would be $(0.87+0.00+0.53)/3 = 0.47$. The macro averages for precision, recall and f1-score are 0.29, 0.33 and 0.31 respectively. These numbers indicate poor performance of the model in predicting labels correctly if the true label is not 'natural'. This model is somewhat better than the logistic regression model at predicting 'unnatural' corrrectly however."
   ]
  },
  {
   "cell_type": "markdown",
   "metadata": {},
   "source": [
    "\n",
    "### Analysis of Hypothesis Tests\n",
    "\n",
    "\n",
    "#### Question 1\n",
    "\n",
    "Is there a relationship between month of death to age, gender or race?\n",
    "\n",
    "Null Hypothesis: There is no relationship between months of death and age, gender or race.\n",
    "\n",
    "Alternative Hypothesis: There is a relationship between months of death and age, gender or race.\n",
    "\n",
    "If we analyze the results of the anova table we can see that for all of our variables we get P value scores of above 0.05 for all of the possible combinations. This means that we do not have a relationship between variables and we do not reject our null hypothesis. Thus we can conclude that there is no relationship between months of death to age, gender or race.\n",
    "\n",
    "Looking at these results, this conclusion might seem obvious at first, but for us we found the results to be a bit different to what we expected. Based on the demographics of South African society and issues related to poverty and living conditions, we expected to have a spike in deaths around the winter months. We originally thought that whis would reflect in both race and age, but our initial expectations proved to be false.\n",
    "\n",
    "#### Question 2\n",
    "\n",
    "Does the geographical type of people influence the type of death? For example, do people in Rural or Urban areas suffer from natural deaths more frequently?\n",
    "\n",
    "Null Hypothesis: Geographical type does not influence the type of death\n",
    "\n",
    "Alternative Hypothesis: Geographical type does influence the type of death\n",
    "\n",
    "If we analyze the results given by our chi-squared tests, we get the following results:\n",
    "For the relationship between geographical type and cause of death we got a chi squared value of 0.00019630359483713278\n",
    "For the relationship between provinces and cause of death we got a chi squared value of 3.393174630161866e-11\n",
    "\n",
    "Both of these values are above our chosen significance level, therefore we can conclude that there is a relationship between these variables. This means we reject our null hypothesis.\n",
    "\n",
    "These results meet our expectations as we did expect geographical type to have some influence on types of deaths. For geographical types, people living in Rural areas tend to have less access to advanced medical care that people in Urban areas would have access to. Similarly, people in urban areas are more prone to deaths in things such as motor vehicle accidents compared to rural areas where vehicles are rarer. As far as provinces go, again certain provinces have access to better medical facilities. Comparing Gauteng and Limpopo province for example would provide a stark contrast in medical care.\n",
    "\n",
    "\n",
    "#### Question 3\n",
    "\n",
    "Do demographic features population group(race) and sex influence cause of death?\n",
    "\n",
    "Null Hypothesis: Demographic features population group and sex do not influence cause of death\n",
    "\n",
    "Alternative Hypothesis: Demographic features population group and sex do influence cause of death\n",
    "\n",
    "\n",
    "If we analyze the results given by our chi-squared tests, we get the following results:\n",
    "For the relationship between sex and cause of death we got a chi squared value of 80.39797724321191\n",
    "For the relationship between pop_group and cause of death we got a chi squared value of 21.798607571981716\n",
    "\n",
    "Again both of these values are above our chosen significance level so we can say there is a relationship between the variables here. We reject our null hypothesis.\n",
    "\n",
    "These results meet the expectations we had for this research question. For Sex and cause of death, it is well known that different genders are prone to different ailments. Men for example are more prone to cholesterol related diseases such as heart attacks compared to women. Similarly things such as breast cancer are a lot more prevalent in women than men. As for pop_group it is also well known that different races have different ailments. In South Africa, Indian men and Afrikaans white men tend to suffer from higher cholestrol. Conversely Black men and women have much lower incidences of skin cancer. These results mirror those results and is reflected here in our hypothesis tests.\n",
    "\n"
   ]
  },
  {
   "cell_type": "markdown",
   "metadata": {},
   "source": [
    "## Conclusions"
   ]
  },
  {
   "cell_type": "markdown",
   "metadata": {},
   "source": [
    "Based on our models and hypothesis testing we now have the ability to answer our research questions:\n",
    "\n",
    "#### Question 1\n",
    "\n",
    "Is there a relationship between month of death to age, gender or race?\n",
    "\n",
    "We can say there is no relationship between the month of death to age, gender or race. There is no evidence here of certain months in the year having more deaths of certain ages, genders or races.\n",
    "\n",
    "#### Question 2\n",
    "\n",
    "Does the geographical type of people influence the type of death? For example, do people in Rural or Urban areas suffer from natural deaths more frequently?\n",
    "\n",
    "We can say that the geographical type of people does influence the type of death. People in Urban and Rural areas suffer from different deaths, specifically unnatural and natural. This extends to people in different provinces suffering from different types of deaths. This could also be related to certain provinces having more people living in rural areas compared to urban areas.\n",
    "\n",
    "#### Question 3\n",
    "\n",
    "Do demographic features population group(race) and sex influence cause of death?\n",
    "\n",
    "We can say that the demographic features of race and sex do influence the cause of death. This tells us that different genders do suffer from different causes of death. Furthermore, different races also suffer from different causes of death.\n"
   ]
  },
  {
   "cell_type": "markdown",
   "metadata": {},
   "source": [
    "### Further Research"
   ]
  },
  {
   "cell_type": "markdown",
   "metadata": {},
   "source": [
    "In order to progress our research further we could improve on certain things:\n",
    "\n",
    "We would like to use the entire dataset instead of a 10% sample to see if our results would differ, particularly in the model fitting section. This would require getting access to the entire dataset as well as a computer which is a lot more powerful and has the potential to process such a large dataset. This would likely solve the issues we have seen in our model fitting where our model was predicting only natural deaths.\n",
    "\n",
    "Another thing we would like to add is to extend our data set by adding additional features onto the dataset. This would allow us to test for multiple other relationships between variables.\n",
    "\n",
    "Finally another way we could refine our results is to use multiple different hypothesis tests on each research question instead of the single tests we have implemented now. For example T-Tests and Z-tests."
   ]
  },
  {
   "cell_type": "code",
   "execution_count": null,
   "metadata": {},
   "outputs": [],
   "source": []
  }
 ],
 "metadata": {
  "kernelspec": {
   "display_name": "Python 3",
   "language": "python",
   "name": "python3"
  },
  "language_info": {
   "codemirror_mode": {
    "name": "ipython",
    "version": 3
   },
   "file_extension": ".py",
   "mimetype": "text/x-python",
   "name": "python",
   "nbconvert_exporter": "python",
   "pygments_lexer": "ipython3",
   "version": "3.7.1"
  }
 },
 "nbformat": 4,
 "nbformat_minor": 4
}
